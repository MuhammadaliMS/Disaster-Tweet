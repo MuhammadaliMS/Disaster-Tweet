{
  "nbformat": 4,
  "nbformat_minor": 0,
  "metadata": {
    "colab": {
      "name": "Disaster_tweets.ipynb",
      "provenance": [],
      "collapsed_sections": [],
      "authorship_tag": "ABX9TyOQsqkknYuT4SzPcrf6ha2M",
      "include_colab_link": true
    },
    "kernelspec": {
      "name": "python3",
      "display_name": "Python 3"
    },
    "accelerator": "GPU",
    "widgets": {
      "application/vnd.jupyter.widget-state+json": {
        "c6c0092e30944cfd91ca2102ca3bffe6": {
          "model_module": "@jupyter-widgets/controls",
          "model_name": "HBoxModel",
          "state": {
            "_view_name": "HBoxView",
            "_dom_classes": [],
            "_model_name": "HBoxModel",
            "_view_module": "@jupyter-widgets/controls",
            "_model_module_version": "1.5.0",
            "_view_count": null,
            "_view_module_version": "1.5.0",
            "box_style": "",
            "layout": "IPY_MODEL_e56a3835299c4879b5e08939328d4e5d",
            "_model_module": "@jupyter-widgets/controls",
            "children": [
              "IPY_MODEL_2799ecd0c5f44b8094cb9da77ef3381d",
              "IPY_MODEL_d65d4fa3a760450cbd452c591f3be59d"
            ]
          }
        },
        "e56a3835299c4879b5e08939328d4e5d": {
          "model_module": "@jupyter-widgets/base",
          "model_name": "LayoutModel",
          "state": {
            "_view_name": "LayoutView",
            "grid_template_rows": null,
            "right": null,
            "justify_content": null,
            "_view_module": "@jupyter-widgets/base",
            "overflow": null,
            "_model_module_version": "1.2.0",
            "_view_count": null,
            "flex_flow": null,
            "width": null,
            "min_width": null,
            "border": null,
            "align_items": null,
            "bottom": null,
            "_model_module": "@jupyter-widgets/base",
            "top": null,
            "grid_column": null,
            "overflow_y": null,
            "overflow_x": null,
            "grid_auto_flow": null,
            "grid_area": null,
            "grid_template_columns": null,
            "flex": null,
            "_model_name": "LayoutModel",
            "justify_items": null,
            "grid_row": null,
            "max_height": null,
            "align_content": null,
            "visibility": null,
            "align_self": null,
            "height": null,
            "min_height": null,
            "padding": null,
            "grid_auto_rows": null,
            "grid_gap": null,
            "max_width": null,
            "order": null,
            "_view_module_version": "1.2.0",
            "grid_template_areas": null,
            "object_position": null,
            "object_fit": null,
            "grid_auto_columns": null,
            "margin": null,
            "display": null,
            "left": null
          }
        },
        "2799ecd0c5f44b8094cb9da77ef3381d": {
          "model_module": "@jupyter-widgets/controls",
          "model_name": "FloatProgressModel",
          "state": {
            "_view_name": "ProgressView",
            "style": "IPY_MODEL_6ddc987c292f442fac4932080dad5a37",
            "_dom_classes": [],
            "description": "Downloading: 100%",
            "_model_name": "FloatProgressModel",
            "bar_style": "success",
            "max": 231508,
            "_view_module": "@jupyter-widgets/controls",
            "_model_module_version": "1.5.0",
            "value": 231508,
            "_view_count": null,
            "_view_module_version": "1.5.0",
            "orientation": "horizontal",
            "min": 0,
            "description_tooltip": null,
            "_model_module": "@jupyter-widgets/controls",
            "layout": "IPY_MODEL_14ea07c537df41dab43943fef8464576"
          }
        },
        "d65d4fa3a760450cbd452c591f3be59d": {
          "model_module": "@jupyter-widgets/controls",
          "model_name": "HTMLModel",
          "state": {
            "_view_name": "HTMLView",
            "style": "IPY_MODEL_83860776e42341f38adb7c03c31598b4",
            "_dom_classes": [],
            "description": "",
            "_model_name": "HTMLModel",
            "placeholder": "​",
            "_view_module": "@jupyter-widgets/controls",
            "_model_module_version": "1.5.0",
            "value": " 232k/232k [00:00&lt;00:00, 1.08MB/s]",
            "_view_count": null,
            "_view_module_version": "1.5.0",
            "description_tooltip": null,
            "_model_module": "@jupyter-widgets/controls",
            "layout": "IPY_MODEL_4c12b04209784e0c9d684b5d24ead974"
          }
        },
        "6ddc987c292f442fac4932080dad5a37": {
          "model_module": "@jupyter-widgets/controls",
          "model_name": "ProgressStyleModel",
          "state": {
            "_view_name": "StyleView",
            "_model_name": "ProgressStyleModel",
            "description_width": "initial",
            "_view_module": "@jupyter-widgets/base",
            "_model_module_version": "1.5.0",
            "_view_count": null,
            "_view_module_version": "1.2.0",
            "bar_color": null,
            "_model_module": "@jupyter-widgets/controls"
          }
        },
        "14ea07c537df41dab43943fef8464576": {
          "model_module": "@jupyter-widgets/base",
          "model_name": "LayoutModel",
          "state": {
            "_view_name": "LayoutView",
            "grid_template_rows": null,
            "right": null,
            "justify_content": null,
            "_view_module": "@jupyter-widgets/base",
            "overflow": null,
            "_model_module_version": "1.2.0",
            "_view_count": null,
            "flex_flow": null,
            "width": null,
            "min_width": null,
            "border": null,
            "align_items": null,
            "bottom": null,
            "_model_module": "@jupyter-widgets/base",
            "top": null,
            "grid_column": null,
            "overflow_y": null,
            "overflow_x": null,
            "grid_auto_flow": null,
            "grid_area": null,
            "grid_template_columns": null,
            "flex": null,
            "_model_name": "LayoutModel",
            "justify_items": null,
            "grid_row": null,
            "max_height": null,
            "align_content": null,
            "visibility": null,
            "align_self": null,
            "height": null,
            "min_height": null,
            "padding": null,
            "grid_auto_rows": null,
            "grid_gap": null,
            "max_width": null,
            "order": null,
            "_view_module_version": "1.2.0",
            "grid_template_areas": null,
            "object_position": null,
            "object_fit": null,
            "grid_auto_columns": null,
            "margin": null,
            "display": null,
            "left": null
          }
        },
        "83860776e42341f38adb7c03c31598b4": {
          "model_module": "@jupyter-widgets/controls",
          "model_name": "DescriptionStyleModel",
          "state": {
            "_view_name": "StyleView",
            "_model_name": "DescriptionStyleModel",
            "description_width": "",
            "_view_module": "@jupyter-widgets/base",
            "_model_module_version": "1.5.0",
            "_view_count": null,
            "_view_module_version": "1.2.0",
            "_model_module": "@jupyter-widgets/controls"
          }
        },
        "4c12b04209784e0c9d684b5d24ead974": {
          "model_module": "@jupyter-widgets/base",
          "model_name": "LayoutModel",
          "state": {
            "_view_name": "LayoutView",
            "grid_template_rows": null,
            "right": null,
            "justify_content": null,
            "_view_module": "@jupyter-widgets/base",
            "overflow": null,
            "_model_module_version": "1.2.0",
            "_view_count": null,
            "flex_flow": null,
            "width": null,
            "min_width": null,
            "border": null,
            "align_items": null,
            "bottom": null,
            "_model_module": "@jupyter-widgets/base",
            "top": null,
            "grid_column": null,
            "overflow_y": null,
            "overflow_x": null,
            "grid_auto_flow": null,
            "grid_area": null,
            "grid_template_columns": null,
            "flex": null,
            "_model_name": "LayoutModel",
            "justify_items": null,
            "grid_row": null,
            "max_height": null,
            "align_content": null,
            "visibility": null,
            "align_self": null,
            "height": null,
            "min_height": null,
            "padding": null,
            "grid_auto_rows": null,
            "grid_gap": null,
            "max_width": null,
            "order": null,
            "_view_module_version": "1.2.0",
            "grid_template_areas": null,
            "object_position": null,
            "object_fit": null,
            "grid_auto_columns": null,
            "margin": null,
            "display": null,
            "left": null
          }
        }
      }
    }
  },
  "cells": [
    {
      "cell_type": "markdown",
      "metadata": {
        "id": "view-in-github",
        "colab_type": "text"
      },
      "source": [
        "<a href=\"https://colab.research.google.com/github/MuhammadaliMS/Disaster-Tweet/blob/master/Disaster_tweets.ipynb\" target=\"_parent\"><img src=\"https://colab.research.google.com/assets/colab-badge.svg\" alt=\"Open In Colab\"/></a>"
      ]
    },
    {
      "cell_type": "code",
      "metadata": {
        "id": "5qlWA1L3Kdlt",
        "colab_type": "code",
        "colab": {
          "base_uri": "https://localhost:8080/",
          "height": 125
        },
        "outputId": "0ac3a9f1-737b-4807-f886-46c5af0ab4d6"
      },
      "source": [
        "from google.colab import drive\n",
        "drive.mount('/content/drive')"
      ],
      "execution_count": 4,
      "outputs": [
        {
          "output_type": "stream",
          "text": [
            "Go to this URL in a browser: https://accounts.google.com/o/oauth2/auth?client_id=947318989803-6bn6qk8qdgf4n4g3pfee6491hc0brc4i.apps.googleusercontent.com&redirect_uri=urn%3aietf%3awg%3aoauth%3a2.0%3aoob&response_type=code&scope=email%20https%3a%2f%2fwww.googleapis.com%2fauth%2fdocs.test%20https%3a%2f%2fwww.googleapis.com%2fauth%2fdrive%20https%3a%2f%2fwww.googleapis.com%2fauth%2fdrive.photos.readonly%20https%3a%2f%2fwww.googleapis.com%2fauth%2fpeopleapi.readonly\n",
            "\n",
            "Enter your authorization code:\n",
            "··········\n",
            "Mounted at /content/drive\n"
          ],
          "name": "stdout"
        }
      ]
    },
    {
      "cell_type": "code",
      "metadata": {
        "id": "5ahSVEQqKobJ",
        "colab_type": "code",
        "colab": {}
      },
      "source": [
        "path = \"/content/drive/My Drive/Data/nlp-getting-started/train.csv\"\n",
        "path1 = \"/content/drive/My Drive/Data/nlp-getting-started/test.csv\"\n",
        "path2 =\"/content/drive/My Drive/Data/nlp-getting-started/sample_submission.csv\""
      ],
      "execution_count": 43,
      "outputs": []
    },
    {
      "cell_type": "code",
      "metadata": {
        "id": "LRHDfie_USZ2",
        "colab_type": "code",
        "colab": {}
      },
      "source": [
        "!wget --quiet https://raw.githubusercontent.com/tensorflow/models/master/official/nlp/bert/tokenization.py"
      ],
      "execution_count": 6,
      "outputs": []
    },
    {
      "cell_type": "code",
      "metadata": {
        "id": "FghFajR-dWSy",
        "colab_type": "code",
        "colab": {
          "base_uri": "https://localhost:8080/",
          "height": 694
        },
        "outputId": "837b81d6-983b-4836-fa6c-1c87db0f5cdd"
      },
      "source": [
        "!pip install git+https://github.com/huggingface/transformers"
      ],
      "execution_count": 7,
      "outputs": [
        {
          "output_type": "stream",
          "text": [
            "Collecting git+https://github.com/huggingface/transformers\n",
            "  Cloning https://github.com/huggingface/transformers to /tmp/pip-req-build-arrhlpto\n",
            "  Running command git clone -q https://github.com/huggingface/transformers /tmp/pip-req-build-arrhlpto\n",
            "Requirement already satisfied: numpy in /usr/local/lib/python3.6/dist-packages (from transformers==3.0.2) (1.18.5)\n",
            "Collecting tokenizers==0.8.1.rc2\n",
            "\u001b[?25l  Downloading https://files.pythonhosted.org/packages/80/83/8b9fccb9e48eeb575ee19179e2bdde0ee9a1904f97de5f02d19016b8804f/tokenizers-0.8.1rc2-cp36-cp36m-manylinux1_x86_64.whl (3.0MB)\n",
            "\u001b[K     |████████████████████████████████| 3.0MB 4.8MB/s \n",
            "\u001b[?25hRequirement already satisfied: packaging in /usr/local/lib/python3.6/dist-packages (from transformers==3.0.2) (20.4)\n",
            "Requirement already satisfied: filelock in /usr/local/lib/python3.6/dist-packages (from transformers==3.0.2) (3.0.12)\n",
            "Requirement already satisfied: requests in /usr/local/lib/python3.6/dist-packages (from transformers==3.0.2) (2.23.0)\n",
            "Requirement already satisfied: tqdm>=4.27 in /usr/local/lib/python3.6/dist-packages (from transformers==3.0.2) (4.41.1)\n",
            "Requirement already satisfied: regex!=2019.12.17 in /usr/local/lib/python3.6/dist-packages (from transformers==3.0.2) (2019.12.20)\n",
            "Collecting sentencepiece!=0.1.92\n",
            "\u001b[?25l  Downloading https://files.pythonhosted.org/packages/d4/a4/d0a884c4300004a78cca907a6ff9a5e9fe4f090f5d95ab341c53d28cbc58/sentencepiece-0.1.91-cp36-cp36m-manylinux1_x86_64.whl (1.1MB)\n",
            "\u001b[K     |████████████████████████████████| 1.1MB 54.7MB/s \n",
            "\u001b[?25hCollecting sacremoses\n",
            "\u001b[?25l  Downloading https://files.pythonhosted.org/packages/7d/34/09d19aff26edcc8eb2a01bed8e98f13a1537005d31e95233fd48216eed10/sacremoses-0.0.43.tar.gz (883kB)\n",
            "\u001b[K     |████████████████████████████████| 890kB 58.2MB/s \n",
            "\u001b[?25hRequirement already satisfied: dataclasses in /usr/local/lib/python3.6/dist-packages (from transformers==3.0.2) (0.7)\n",
            "Requirement already satisfied: six in /usr/local/lib/python3.6/dist-packages (from packaging->transformers==3.0.2) (1.15.0)\n",
            "Requirement already satisfied: pyparsing>=2.0.2 in /usr/local/lib/python3.6/dist-packages (from packaging->transformers==3.0.2) (2.4.7)\n",
            "Requirement already satisfied: certifi>=2017.4.17 in /usr/local/lib/python3.6/dist-packages (from requests->transformers==3.0.2) (2020.6.20)\n",
            "Requirement already satisfied: urllib3!=1.25.0,!=1.25.1,<1.26,>=1.21.1 in /usr/local/lib/python3.6/dist-packages (from requests->transformers==3.0.2) (1.24.3)\n",
            "Requirement already satisfied: idna<3,>=2.5 in /usr/local/lib/python3.6/dist-packages (from requests->transformers==3.0.2) (2.10)\n",
            "Requirement already satisfied: chardet<4,>=3.0.2 in /usr/local/lib/python3.6/dist-packages (from requests->transformers==3.0.2) (3.0.4)\n",
            "Requirement already satisfied: click in /usr/local/lib/python3.6/dist-packages (from sacremoses->transformers==3.0.2) (7.1.2)\n",
            "Requirement already satisfied: joblib in /usr/local/lib/python3.6/dist-packages (from sacremoses->transformers==3.0.2) (0.16.0)\n",
            "Building wheels for collected packages: transformers, sacremoses\n",
            "  Building wheel for transformers (setup.py) ... \u001b[?25l\u001b[?25hdone\n",
            "  Created wheel for transformers: filename=transformers-3.0.2-cp36-none-any.whl size=799927 sha256=fe32175d715fabcb1d88998d210a2fcd61932a52ef03db00f87de5b14466dbfc\n",
            "  Stored in directory: /tmp/pip-ephem-wheel-cache-xzo79erw/wheels/70/d3/52/b3fa4f8b8ef04167ac62e5bb2accb62ae764db2a378247490e\n",
            "  Building wheel for sacremoses (setup.py) ... \u001b[?25l\u001b[?25hdone\n",
            "  Created wheel for sacremoses: filename=sacremoses-0.0.43-cp36-none-any.whl size=893260 sha256=4c6dacd6a654282ec5296caf82e8932a311c696a53e6a3df67f41946af45c3fe\n",
            "  Stored in directory: /root/.cache/pip/wheels/29/3c/fd/7ce5c3f0666dab31a50123635e6fb5e19ceb42ce38d4e58f45\n",
            "Successfully built transformers sacremoses\n",
            "Installing collected packages: tokenizers, sentencepiece, sacremoses, transformers\n",
            "Successfully installed sacremoses-0.0.43 sentencepiece-0.1.91 tokenizers-0.8.1rc2 transformers-3.0.2\n"
          ],
          "name": "stdout"
        }
      ]
    },
    {
      "cell_type": "code",
      "metadata": {
        "id": "4V9leTTbdbmR",
        "colab_type": "code",
        "colab": {
          "base_uri": "https://localhost:8080/",
          "height": 141
        },
        "outputId": "b894fc25-94bc-48be-bae5-2095ff5984df"
      },
      "source": [
        "!git clone https://github.com/huggingface/transformers"
      ],
      "execution_count": 8,
      "outputs": [
        {
          "output_type": "stream",
          "text": [
            "Cloning into 'transformers'...\n",
            "remote: Enumerating objects: 18, done.\u001b[K\n",
            "remote: Counting objects:   5% (1/18)\u001b[K\rremote: Counting objects:  11% (2/18)\u001b[K\rremote: Counting objects:  16% (3/18)\u001b[K\rremote: Counting objects:  22% (4/18)\u001b[K\rremote: Counting objects:  27% (5/18)\u001b[K\rremote: Counting objects:  33% (6/18)\u001b[K\rremote: Counting objects:  38% (7/18)\u001b[K\rremote: Counting objects:  44% (8/18)\u001b[K\rremote: Counting objects:  50% (9/18)\u001b[K\rremote: Counting objects:  55% (10/18)\u001b[K\rremote: Counting objects:  61% (11/18)\u001b[K\rremote: Counting objects:  66% (12/18)\u001b[K\rremote: Counting objects:  72% (13/18)\u001b[K\rremote: Counting objects:  77% (14/18)\u001b[K\rremote: Counting objects:  83% (15/18)\u001b[K\rremote: Counting objects:  88% (16/18)\u001b[K\rremote: Counting objects:  94% (17/18)\u001b[K\rremote: Counting objects: 100% (18/18)\u001b[K\rremote: Counting objects: 100% (18/18), done.\u001b[K\n",
            "remote: Compressing objects: 100% (13/13), done.\u001b[K\n",
            "remote: Total 35899 (delta 8), reused 9 (delta 4), pack-reused 35881\u001b[K\n",
            "Receiving objects: 100% (35899/35899), 26.04 MiB | 28.42 MiB/s, done.\n",
            "Resolving deltas: 100% (24761/24761), done.\n"
          ],
          "name": "stdout"
        }
      ]
    },
    {
      "cell_type": "code",
      "metadata": {
        "id": "TIB7gMUbdxJX",
        "colab_type": "code",
        "colab": {
          "base_uri": "https://localhost:8080/",
          "height": 424,
          "referenced_widgets": [
            "c6c0092e30944cfd91ca2102ca3bffe6",
            "e56a3835299c4879b5e08939328d4e5d",
            "2799ecd0c5f44b8094cb9da77ef3381d",
            "d65d4fa3a760450cbd452c591f3be59d",
            "6ddc987c292f442fac4932080dad5a37",
            "14ea07c537df41dab43943fef8464576",
            "83860776e42341f38adb7c03c31598b4",
            "4c12b04209784e0c9d684b5d24ead974"
          ]
        },
        "outputId": "e7f18c7d-54de-4bdd-fe1c-fe884fd424a3"
      },
      "source": [
        "!pip install transformers\n",
        "from transformers import BertTokenizer\n",
        "tokenizer = BertTokenizer.from_pretrained('bert-base-uncased', do_lower_case=True)"
      ],
      "execution_count": 9,
      "outputs": [
        {
          "output_type": "stream",
          "text": [
            "Requirement already satisfied: transformers in /usr/local/lib/python3.6/dist-packages (3.0.2)\n",
            "Requirement already satisfied: packaging in /usr/local/lib/python3.6/dist-packages (from transformers) (20.4)\n",
            "Requirement already satisfied: numpy in /usr/local/lib/python3.6/dist-packages (from transformers) (1.18.5)\n",
            "Requirement already satisfied: tokenizers==0.8.1.rc2 in /usr/local/lib/python3.6/dist-packages (from transformers) (0.8.1rc2)\n",
            "Requirement already satisfied: requests in /usr/local/lib/python3.6/dist-packages (from transformers) (2.23.0)\n",
            "Requirement already satisfied: regex!=2019.12.17 in /usr/local/lib/python3.6/dist-packages (from transformers) (2019.12.20)\n",
            "Requirement already satisfied: sentencepiece!=0.1.92 in /usr/local/lib/python3.6/dist-packages (from transformers) (0.1.91)\n",
            "Requirement already satisfied: sacremoses in /usr/local/lib/python3.6/dist-packages (from transformers) (0.0.43)\n",
            "Requirement already satisfied: dataclasses; python_version < \"3.7\" in /usr/local/lib/python3.6/dist-packages (from transformers) (0.7)\n",
            "Requirement already satisfied: tqdm>=4.27 in /usr/local/lib/python3.6/dist-packages (from transformers) (4.41.1)\n",
            "Requirement already satisfied: filelock in /usr/local/lib/python3.6/dist-packages (from transformers) (3.0.12)\n",
            "Requirement already satisfied: six in /usr/local/lib/python3.6/dist-packages (from packaging->transformers) (1.15.0)\n",
            "Requirement already satisfied: pyparsing>=2.0.2 in /usr/local/lib/python3.6/dist-packages (from packaging->transformers) (2.4.7)\n",
            "Requirement already satisfied: urllib3!=1.25.0,!=1.25.1,<1.26,>=1.21.1 in /usr/local/lib/python3.6/dist-packages (from requests->transformers) (1.24.3)\n",
            "Requirement already satisfied: certifi>=2017.4.17 in /usr/local/lib/python3.6/dist-packages (from requests->transformers) (2020.6.20)\n",
            "Requirement already satisfied: idna<3,>=2.5 in /usr/local/lib/python3.6/dist-packages (from requests->transformers) (2.10)\n",
            "Requirement already satisfied: chardet<4,>=3.0.2 in /usr/local/lib/python3.6/dist-packages (from requests->transformers) (3.0.4)\n",
            "Requirement already satisfied: click in /usr/local/lib/python3.6/dist-packages (from sacremoses->transformers) (7.1.2)\n",
            "Requirement already satisfied: joblib in /usr/local/lib/python3.6/dist-packages (from sacremoses->transformers) (0.16.0)\n"
          ],
          "name": "stdout"
        },
        {
          "output_type": "display_data",
          "data": {
            "application/vnd.jupyter.widget-view+json": {
              "model_id": "c6c0092e30944cfd91ca2102ca3bffe6",
              "version_minor": 0,
              "version_major": 2
            },
            "text/plain": [
              "HBox(children=(FloatProgress(value=0.0, description='Downloading', max=231508.0, style=ProgressStyle(descripti…"
            ]
          },
          "metadata": {
            "tags": []
          }
        },
        {
          "output_type": "stream",
          "text": [
            "\n"
          ],
          "name": "stdout"
        }
      ]
    },
    {
      "cell_type": "code",
      "metadata": {
        "id": "T-nZbjCELhvq",
        "colab_type": "code",
        "colab": {
          "base_uri": "https://localhost:8080/",
          "height": 125
        },
        "outputId": "48203323-38f9-42ee-8eef-74c7ccb74b42"
      },
      "source": [
        "import pandas as pd\n",
        "import matplotlib.pyplot as plt\n",
        "import seaborn as sns\n",
        "import numpy as np\n",
        "import nltk\n",
        "nltk.download('stopwords')\n",
        "from nltk.corpus import stopwords\n",
        "from nltk.util import ngrams\n",
        "from sklearn.feature_extraction.text import CountVectorizer\n",
        "from collections import defaultdict\n",
        "from collections import  Counter\n",
        "plt.style.use('ggplot')\n",
        "stop=set(stopwords.words('english'))\n",
        "import re\n",
        "from nltk.tokenize import word_tokenize\n",
        "import gensim\n",
        "import string\n",
        "from keras.preprocessing.text import Tokenizer\n",
        "from keras.preprocessing.sequence import pad_sequences\n",
        "from tqdm import tqdm\n",
        "from keras.models import Sequential\n",
        "from keras.layers import Embedding,LSTM,Dense,SpatialDropout1D\n",
        "from keras.initializers import Constant\n",
        "from sklearn.model_selection import train_test_split\n",
        "from keras.optimizers import Adam\n",
        "import plotly.express as px\n",
        "from sklearn.model_selection import StratifiedKFold, StratifiedShuffleSplit\n",
        "from sklearn.metrics import precision_score, recall_score, f1_score\n",
        "\n",
        "import tensorflow as tf\n",
        "import tensorflow_hub as hub\n",
        "from tensorflow import keras\n",
        "from tensorflow.keras.optimizers import SGD, Adam\n",
        "from tensorflow.keras.layers import Dense, Input, Dropout, GlobalAveragePooling1D\n",
        "from tensorflow.keras.models import Model, Sequential\n",
        "from tensorflow.keras.callbacks import ModelCheckpoint, EarlyStopping, Callback\n",
        "\n",
        "SEED = 1337"
      ],
      "execution_count": 10,
      "outputs": [
        {
          "output_type": "stream",
          "text": [
            "/usr/local/lib/python3.6/dist-packages/statsmodels/tools/_testing.py:19: FutureWarning: pandas.util.testing is deprecated. Use the functions in the public API at pandas.testing instead.\n",
            "  import pandas.util.testing as tm\n"
          ],
          "name": "stderr"
        },
        {
          "output_type": "stream",
          "text": [
            "[nltk_data] Downloading package stopwords to /root/nltk_data...\n",
            "[nltk_data]   Unzipping corpora/stopwords.zip.\n"
          ],
          "name": "stdout"
        },
        {
          "output_type": "stream",
          "text": [
            "Using TensorFlow backend.\n"
          ],
          "name": "stderr"
        }
      ]
    },
    {
      "cell_type": "code",
      "metadata": {
        "id": "VD1Jo5G_Locc",
        "colab_type": "code",
        "colab": {
          "base_uri": "https://localhost:8080/",
          "height": 215
        },
        "outputId": "980f64f2-43ee-4b0c-e536-dc854464b98e"
      },
      "source": [
        "train = pd.read_csv(path)\n",
        "test = pd.read_csv(path1)\n",
        "print(train.shape)\n",
        "train.tail()"
      ],
      "execution_count": 11,
      "outputs": [
        {
          "output_type": "stream",
          "text": [
            "(7613, 5)\n"
          ],
          "name": "stdout"
        },
        {
          "output_type": "execute_result",
          "data": {
            "text/html": [
              "<div>\n",
              "<style scoped>\n",
              "    .dataframe tbody tr th:only-of-type {\n",
              "        vertical-align: middle;\n",
              "    }\n",
              "\n",
              "    .dataframe tbody tr th {\n",
              "        vertical-align: top;\n",
              "    }\n",
              "\n",
              "    .dataframe thead th {\n",
              "        text-align: right;\n",
              "    }\n",
              "</style>\n",
              "<table border=\"1\" class=\"dataframe\">\n",
              "  <thead>\n",
              "    <tr style=\"text-align: right;\">\n",
              "      <th></th>\n",
              "      <th>id</th>\n",
              "      <th>keyword</th>\n",
              "      <th>location</th>\n",
              "      <th>text</th>\n",
              "      <th>target</th>\n",
              "    </tr>\n",
              "  </thead>\n",
              "  <tbody>\n",
              "    <tr>\n",
              "      <th>7608</th>\n",
              "      <td>10869</td>\n",
              "      <td>NaN</td>\n",
              "      <td>NaN</td>\n",
              "      <td>Two giant cranes holding a bridge collapse int...</td>\n",
              "      <td>1</td>\n",
              "    </tr>\n",
              "    <tr>\n",
              "      <th>7609</th>\n",
              "      <td>10870</td>\n",
              "      <td>NaN</td>\n",
              "      <td>NaN</td>\n",
              "      <td>@aria_ahrary @TheTawniest The out of control w...</td>\n",
              "      <td>1</td>\n",
              "    </tr>\n",
              "    <tr>\n",
              "      <th>7610</th>\n",
              "      <td>10871</td>\n",
              "      <td>NaN</td>\n",
              "      <td>NaN</td>\n",
              "      <td>M1.94 [01:04 UTC]?5km S of Volcano Hawaii. htt...</td>\n",
              "      <td>1</td>\n",
              "    </tr>\n",
              "    <tr>\n",
              "      <th>7611</th>\n",
              "      <td>10872</td>\n",
              "      <td>NaN</td>\n",
              "      <td>NaN</td>\n",
              "      <td>Police investigating after an e-bike collided ...</td>\n",
              "      <td>1</td>\n",
              "    </tr>\n",
              "    <tr>\n",
              "      <th>7612</th>\n",
              "      <td>10873</td>\n",
              "      <td>NaN</td>\n",
              "      <td>NaN</td>\n",
              "      <td>The Latest: More Homes Razed by Northern Calif...</td>\n",
              "      <td>1</td>\n",
              "    </tr>\n",
              "  </tbody>\n",
              "</table>\n",
              "</div>"
            ],
            "text/plain": [
              "         id keyword  ...                                               text target\n",
              "7608  10869     NaN  ...  Two giant cranes holding a bridge collapse int...      1\n",
              "7609  10870     NaN  ...  @aria_ahrary @TheTawniest The out of control w...      1\n",
              "7610  10871     NaN  ...  M1.94 [01:04 UTC]?5km S of Volcano Hawaii. htt...      1\n",
              "7611  10872     NaN  ...  Police investigating after an e-bike collided ...      1\n",
              "7612  10873     NaN  ...  The Latest: More Homes Razed by Northern Calif...      1\n",
              "\n",
              "[5 rows x 5 columns]"
            ]
          },
          "metadata": {
            "tags": []
          },
          "execution_count": 11
        }
      ]
    },
    {
      "cell_type": "code",
      "metadata": {
        "id": "QWDVVSOEMBxJ",
        "colab_type": "code",
        "colab": {
          "base_uri": "https://localhost:8080/",
          "height": 230
        },
        "outputId": "297734da-cc5d-45d8-8b62-2824591f1c77"
      },
      "source": [
        "train.info()"
      ],
      "execution_count": 12,
      "outputs": [
        {
          "output_type": "stream",
          "text": [
            "<class 'pandas.core.frame.DataFrame'>\n",
            "RangeIndex: 7613 entries, 0 to 7612\n",
            "Data columns (total 5 columns):\n",
            " #   Column    Non-Null Count  Dtype \n",
            "---  ------    --------------  ----- \n",
            " 0   id        7613 non-null   int64 \n",
            " 1   keyword   7552 non-null   object\n",
            " 2   location  5080 non-null   object\n",
            " 3   text      7613 non-null   object\n",
            " 4   target    7613 non-null   int64 \n",
            "dtypes: int64(2), object(3)\n",
            "memory usage: 297.5+ KB\n"
          ],
          "name": "stdout"
        }
      ]
    },
    {
      "cell_type": "code",
      "metadata": {
        "id": "uEZSgU94MXgZ",
        "colab_type": "code",
        "colab": {
          "base_uri": "https://localhost:8080/",
          "height": 212
        },
        "outputId": "86885746-9d0c-46a4-b204-e4c5259c18ef"
      },
      "source": [
        "test.info()"
      ],
      "execution_count": 13,
      "outputs": [
        {
          "output_type": "stream",
          "text": [
            "<class 'pandas.core.frame.DataFrame'>\n",
            "RangeIndex: 3263 entries, 0 to 3262\n",
            "Data columns (total 4 columns):\n",
            " #   Column    Non-Null Count  Dtype \n",
            "---  ------    --------------  ----- \n",
            " 0   id        3263 non-null   int64 \n",
            " 1   keyword   3237 non-null   object\n",
            " 2   location  2158 non-null   object\n",
            " 3   text      3263 non-null   object\n",
            "dtypes: int64(1), object(3)\n",
            "memory usage: 102.1+ KB\n"
          ],
          "name": "stdout"
        }
      ]
    },
    {
      "cell_type": "code",
      "metadata": {
        "id": "8L9O85woMaBZ",
        "colab_type": "code",
        "colab": {
          "base_uri": "https://localhost:8080/",
          "height": 287
        },
        "outputId": "28b0c6dc-bbf5-4cda-dc54-3017d9787d57"
      },
      "source": [
        "train.describe()"
      ],
      "execution_count": 14,
      "outputs": [
        {
          "output_type": "execute_result",
          "data": {
            "text/html": [
              "<div>\n",
              "<style scoped>\n",
              "    .dataframe tbody tr th:only-of-type {\n",
              "        vertical-align: middle;\n",
              "    }\n",
              "\n",
              "    .dataframe tbody tr th {\n",
              "        vertical-align: top;\n",
              "    }\n",
              "\n",
              "    .dataframe thead th {\n",
              "        text-align: right;\n",
              "    }\n",
              "</style>\n",
              "<table border=\"1\" class=\"dataframe\">\n",
              "  <thead>\n",
              "    <tr style=\"text-align: right;\">\n",
              "      <th></th>\n",
              "      <th>id</th>\n",
              "      <th>target</th>\n",
              "    </tr>\n",
              "  </thead>\n",
              "  <tbody>\n",
              "    <tr>\n",
              "      <th>count</th>\n",
              "      <td>7613.000000</td>\n",
              "      <td>7613.00000</td>\n",
              "    </tr>\n",
              "    <tr>\n",
              "      <th>mean</th>\n",
              "      <td>5441.934848</td>\n",
              "      <td>0.42966</td>\n",
              "    </tr>\n",
              "    <tr>\n",
              "      <th>std</th>\n",
              "      <td>3137.116090</td>\n",
              "      <td>0.49506</td>\n",
              "    </tr>\n",
              "    <tr>\n",
              "      <th>min</th>\n",
              "      <td>1.000000</td>\n",
              "      <td>0.00000</td>\n",
              "    </tr>\n",
              "    <tr>\n",
              "      <th>25%</th>\n",
              "      <td>2734.000000</td>\n",
              "      <td>0.00000</td>\n",
              "    </tr>\n",
              "    <tr>\n",
              "      <th>50%</th>\n",
              "      <td>5408.000000</td>\n",
              "      <td>0.00000</td>\n",
              "    </tr>\n",
              "    <tr>\n",
              "      <th>75%</th>\n",
              "      <td>8146.000000</td>\n",
              "      <td>1.00000</td>\n",
              "    </tr>\n",
              "    <tr>\n",
              "      <th>max</th>\n",
              "      <td>10873.000000</td>\n",
              "      <td>1.00000</td>\n",
              "    </tr>\n",
              "  </tbody>\n",
              "</table>\n",
              "</div>"
            ],
            "text/plain": [
              "                 id      target\n",
              "count   7613.000000  7613.00000\n",
              "mean    5441.934848     0.42966\n",
              "std     3137.116090     0.49506\n",
              "min        1.000000     0.00000\n",
              "25%     2734.000000     0.00000\n",
              "50%     5408.000000     0.00000\n",
              "75%     8146.000000     1.00000\n",
              "max    10873.000000     1.00000"
            ]
          },
          "metadata": {
            "tags": []
          },
          "execution_count": 14
        }
      ]
    },
    {
      "cell_type": "code",
      "metadata": {
        "id": "2KrVyK3cM0wQ",
        "colab_type": "code",
        "colab": {
          "base_uri": "https://localhost:8080/",
          "height": 137
        },
        "outputId": "ce482d85-141d-4ac8-e413-4afffbc2ee5b"
      },
      "source": [
        "train.groupby('target').count()"
      ],
      "execution_count": 15,
      "outputs": [
        {
          "output_type": "execute_result",
          "data": {
            "text/html": [
              "<div>\n",
              "<style scoped>\n",
              "    .dataframe tbody tr th:only-of-type {\n",
              "        vertical-align: middle;\n",
              "    }\n",
              "\n",
              "    .dataframe tbody tr th {\n",
              "        vertical-align: top;\n",
              "    }\n",
              "\n",
              "    .dataframe thead th {\n",
              "        text-align: right;\n",
              "    }\n",
              "</style>\n",
              "<table border=\"1\" class=\"dataframe\">\n",
              "  <thead>\n",
              "    <tr style=\"text-align: right;\">\n",
              "      <th></th>\n",
              "      <th>id</th>\n",
              "      <th>keyword</th>\n",
              "      <th>location</th>\n",
              "      <th>text</th>\n",
              "    </tr>\n",
              "    <tr>\n",
              "      <th>target</th>\n",
              "      <th></th>\n",
              "      <th></th>\n",
              "      <th></th>\n",
              "      <th></th>\n",
              "    </tr>\n",
              "  </thead>\n",
              "  <tbody>\n",
              "    <tr>\n",
              "      <th>0</th>\n",
              "      <td>4342</td>\n",
              "      <td>4323</td>\n",
              "      <td>2884</td>\n",
              "      <td>4342</td>\n",
              "    </tr>\n",
              "    <tr>\n",
              "      <th>1</th>\n",
              "      <td>3271</td>\n",
              "      <td>3229</td>\n",
              "      <td>2196</td>\n",
              "      <td>3271</td>\n",
              "    </tr>\n",
              "  </tbody>\n",
              "</table>\n",
              "</div>"
            ],
            "text/plain": [
              "          id  keyword  location  text\n",
              "target                               \n",
              "0       4342     4323      2884  4342\n",
              "1       3271     3229      2196  3271"
            ]
          },
          "metadata": {
            "tags": []
          },
          "execution_count": 15
        }
      ]
    },
    {
      "cell_type": "code",
      "metadata": {
        "id": "9OO2o6hxNCUe",
        "colab_type": "code",
        "colab": {
          "base_uri": "https://localhost:8080/",
          "height": 300
        },
        "outputId": "e6dde1bb-7340-4701-d631-f61bac428719"
      },
      "source": [
        "sns.countplot(x='target',data =train)"
      ],
      "execution_count": 16,
      "outputs": [
        {
          "output_type": "execute_result",
          "data": {
            "text/plain": [
              "<matplotlib.axes._subplots.AxesSubplot at 0x7f0c5936f4a8>"
            ]
          },
          "metadata": {
            "tags": []
          },
          "execution_count": 16
        },
        {
          "output_type": "display_data",
          "data": {
            "image/png": "[encoded data removed]",
            "text/plain": [
              "<Figure size 432x288 with 1 Axes>"
            ]
          },
          "metadata": {
            "tags": []
          }
        }
      ]
    },
    {
      "cell_type": "code",
      "metadata": {
        "id": "jKF5SG3jUJa_",
        "colab_type": "code",
        "colab": {
          "base_uri": "https://localhost:8080/",
          "height": 230
        },
        "outputId": "f0815bfd-5960-4da8-972d-fb1536c83073"
      },
      "source": [
        " train[train['target']==0]['text'].apply(lambda x: str(x).split())"
      ],
      "execution_count": 17,
      "outputs": [
        {
          "output_type": "execute_result",
          "data": {
            "text/plain": [
              "15                                     [What's, up, man?]\n",
              "16                                      [I, love, fruits]\n",
              "17                                   [Summer, is, lovely]\n",
              "18                                [My, car, is, so, fast]\n",
              "19                       [What, a, goooooooaaaaaal!!!!!!]\n",
              "                              ...                        \n",
              "7581    [@engineshed, Great, atmosphere, at, the, Brit...\n",
              "7582    [Cramer:, Iger's, 3, words, that, wrecked, Dis...\n",
              "7584    [These, boxes, are, ready, to, explode!, Explo...\n",
              "7587                                [Sirens, everywhere!]\n",
              "7593    [I, just, heard, a, really, loud, bang, and, e...\n",
              "Name: text, Length: 4342, dtype: object"
            ]
          },
          "metadata": {
            "tags": []
          },
          "execution_count": 17
        }
      ]
    },
    {
      "cell_type": "code",
      "metadata": {
        "id": "hX3SaDW7NT24",
        "colab_type": "code",
        "colab": {
          "base_uri": "https://localhost:8080/",
          "height": 336
        },
        "outputId": "30d6ca59-0278-416e-f01c-23db9630bc48"
      },
      "source": [
        "fig,(ax1,ax2)=plt.subplots(1,2,figsize=(10,5))\n",
        "not_disaster_length = train[train['target']==0]['text'].str.len()\n",
        "ax1.hist(not_disaster_length, color ='green')\n",
        "ax1.set_title('Not disaster tweet')\n",
        "disaster_length= train[train['target']==1]['text'].str.len()\n",
        "ax2.hist(disaster_length, color ='red')\n",
        "ax2.set_title(' disaster tweet')\n",
        "plt.show()"
      ],
      "execution_count": 18,
      "outputs": [
        {
          "output_type": "display_data",
          "data": {
            "image/png": "[encoded data removed]",
            "text/plain": [
              "<Figure size 720x360 with 2 Axes>"
            ]
          },
          "metadata": {
            "tags": []
          }
        }
      ]
    },
    {
      "cell_type": "code",
      "metadata": {
        "id": "EX97ZGoPOQU3",
        "colab_type": "code",
        "colab": {
          "base_uri": "https://localhost:8080/",
          "height": 336
        },
        "outputId": "4ffd4c69-6661-4624-c427-9384e2186ce0"
      },
      "source": [
        "#number of words in tweet \n",
        "\n",
        "fig,(ax1,ax2,ax3)= plt.subplots(1,3,figsize=(15,5))\n",
        "\n",
        "dis_tweetlen = train[train['target']==1]['text'].apply(lambda x: len(str(x).split()))\n",
        "ax1.hist(dis_tweetlen, color = 'red')\n",
        "ax1.set_title(' disaster tweet')\n",
        "\n",
        "notdis_tweetlen = train[train['target']==0]['text'].apply(lambda x: len(str(x).split()))\n",
        "ax2.hist(notdis_tweetlen, color = 'green')\n",
        "ax2.set_title(' notdisaster tweet')\n",
        "tweetlen = train['text'].apply(lambda x: len(str(x).split()))\n",
        "ax3.hist(tweetlen, color = 'blue')\n",
        "ax3.set_title('  tweet')\n",
        "plt.show()"
      ],
      "execution_count": 19,
      "outputs": [
        {
          "output_type": "display_data",
          "data": {
            "image/png": "[encoded data removed]",
            "text/plain": [
              "<Figure size 1080x360 with 3 Axes>"
            ]
          },
          "metadata": {
            "tags": []
          }
        }
      ]
    },
    {
      "cell_type": "code",
      "metadata": {
        "id": "d28u4b68Qi6D",
        "colab_type": "code",
        "colab": {
          "base_uri": "https://localhost:8080/",
          "height": 542
        },
        "outputId": "ecb3380d-58d4-4a68-ec0a-406e9e2ede3b"
      },
      "source": [
        "\n",
        "#most common words\n",
        "notdis= train[train['target']==0]['text'].apply(lambda x: str(x).split())\n",
        "top =Counter([item for sublist in notdis for item in sublist])\n",
        "temp = pd.DataFrame(top.most_common(20))\n",
        "temp.columns = ['common_words', 'count'] \n",
        "fig = px.bar(temp, x ='count', y = 'common_words', orientation ='h')\n",
        "fig.show()\n"
      ],
      "execution_count": 20,
      "outputs": [
        {
          "output_type": "display_data",
          "data": {
            "text/html": [
              "<html>\n",
              "<head><meta charset=\"utf-8\" /></head>\n",
              "<body>\n",
              "    <div>\n",
              "            <script src=\"https://cdnjs.cloudflare.com/ajax/libs/mathjax/2.7.5/MathJax.js?config=TeX-AMS-MML_SVG\"></script><script type=\"text/javascript\">if (window.MathJax) {MathJax.Hub.Config({SVG: {font: \"STIX-Web\"}});}</script>\n",
              "                <script type=\"text/javascript\">window.PlotlyConfig = {MathJaxConfig: 'local'};</script>\n",
              "        <script src=\"https://cdn.plot.ly/plotly-latest.min.js\"></script>    \n",
              "            <div id=\"0f927a0c-baeb-4c2e-a2b9-0cecdb22451b\" class=\"plotly-graph-div\" style=\"height:525px; width:100%;\"></div>\n",
              "            <script type=\"text/javascript\">\n",
              "                \n",
              "                    window.PLOTLYENV=window.PLOTLYENV || {};\n",
              "                    \n",
              "                if (document.getElementById(\"0f927a0c-baeb-4c2e-a2b9-0cecdb22451b\")) {\n",
              "                    Plotly.newPlot(\n",
              "                        '0f927a0c-baeb-4c2e-a2b9-0cecdb22451b',\n",
              "                        [{\"alignmentgroup\": \"True\", \"hoverlabel\": {\"namelength\": 0}, \"hovertemplate\": \"count=%{x}<br>common_words=%{y}\", \"legendgroup\": \"\", \"marker\": {\"color\": \"#636efa\"}, \"name\": \"\", \"offsetgroup\": \"\", \"orientation\": \"h\", \"showlegend\": false, \"textposition\": \"auto\", \"type\": \"bar\", \"x\": [1524, 1115, 1099, 938, 840, 834, 720, 529, 512, 452, 442, 387, 374, 349, 326, 295, 290, 268, 233, 225], \"xaxis\": \"x\", \"y\": [\"the\", \"a\", \"to\", \"I\", \"and\", \"of\", \"in\", \"you\", \"is\", \"for\", \"my\", \"on\", \"-\", \"with\", \"that\", \"The\", \"it\", \"be\", \"like\", \"this\"], \"yaxis\": \"y\"}],\n",
              "                        {\"barmode\": \"relative\", \"legend\": {\"tracegroupgap\": 0}, \"margin\": {\"t\": 60}, \"template\": {\"data\": {\"bar\": [{\"error_x\": {\"color\": \"#2a3f5f\"}, \"error_y\": {\"color\": \"#2a3f5f\"}, \"marker\": {\"line\": {\"color\": \"#E5ECF6\", \"width\": 0.5}}, \"type\": \"bar\"}], \"barpolar\": [{\"marker\": {\"line\": {\"color\": \"#E5ECF6\", \"width\": 0.5}}, \"type\": \"barpolar\"}], \"carpet\": [{\"aaxis\": {\"endlinecolor\": \"#2a3f5f\", \"gridcolor\": \"white\", \"linecolor\": \"white\", \"minorgridcolor\": \"white\", \"startlinecolor\": \"#2a3f5f\"}, \"baxis\": {\"endlinecolor\": \"#2a3f5f\", \"gridcolor\": \"white\", \"linecolor\": \"white\", \"minorgridcolor\": \"white\", \"startlinecolor\": \"#2a3f5f\"}, \"type\": \"carpet\"}], \"choropleth\": [{\"colorbar\": {\"outlinewidth\": 0, \"ticks\": \"\"}, \"type\": \"choropleth\"}], \"contour\": [{\"colorbar\": {\"outlinewidth\": 0, \"ticks\": \"\"}, \"colorscale\": [[0.0, \"#0d0887\"], [0.1111111111111111, \"#46039f\"], [0.2222222222222222, \"#7201a8\"], [0.3333333333333333, \"#9c179e\"], [0.4444444444444444, \"#bd3786\"], [0.5555555555555556, \"#d8576b\"], [0.6666666666666666, \"#ed7953\"], [0.7777777777777778, \"#fb9f3a\"], [0.8888888888888888, \"#fdca26\"], [1.0, \"#f0f921\"]], \"type\": \"contour\"}], \"contourcarpet\": [{\"colorbar\": {\"outlinewidth\": 0, \"ticks\": \"\"}, \"type\": \"contourcarpet\"}], \"heatmap\": [{\"colorbar\": {\"outlinewidth\": 0, \"ticks\": \"\"}, \"colorscale\": [[0.0, \"#0d0887\"], [0.1111111111111111, \"#46039f\"], [0.2222222222222222, \"#7201a8\"], [0.3333333333333333, \"#9c179e\"], [0.4444444444444444, \"#bd3786\"], [0.5555555555555556, \"#d8576b\"], [0.6666666666666666, \"#ed7953\"], [0.7777777777777778, \"#fb9f3a\"], [0.8888888888888888, \"#fdca26\"], [1.0, \"#f0f921\"]], \"type\": \"heatmap\"}], \"heatmapgl\": [{\"colorbar\": {\"outlinewidth\": 0, \"ticks\": \"\"}, \"colorscale\": [[0.0, \"#0d0887\"], [0.1111111111111111, \"#46039f\"], [0.2222222222222222, \"#7201a8\"], [0.3333333333333333, \"#9c179e\"], [0.4444444444444444, \"#bd3786\"], [0.5555555555555556, \"#d8576b\"], [0.6666666666666666, \"#ed7953\"], [0.7777777777777778, \"#fb9f3a\"], [0.8888888888888888, \"#fdca26\"], [1.0, \"#f0f921\"]], \"type\": \"heatmapgl\"}], \"histogram\": [{\"marker\": {\"colorbar\": {\"outlinewidth\": 0, \"ticks\": \"\"}}, \"type\": \"histogram\"}], \"histogram2d\": [{\"colorbar\": {\"outlinewidth\": 0, \"ticks\": \"\"}, \"colorscale\": [[0.0, \"#0d0887\"], [0.1111111111111111, \"#46039f\"], [0.2222222222222222, \"#7201a8\"], [0.3333333333333333, \"#9c179e\"], [0.4444444444444444, \"#bd3786\"], [0.5555555555555556, \"#d8576b\"], [0.6666666666666666, \"#ed7953\"], [0.7777777777777778, \"#fb9f3a\"], [0.8888888888888888, \"#fdca26\"], [1.0, \"#f0f921\"]], \"type\": \"histogram2d\"}], \"histogram2dcontour\": [{\"colorbar\": {\"outlinewidth\": 0, \"ticks\": \"\"}, \"colorscale\": [[0.0, \"#0d0887\"], [0.1111111111111111, \"#46039f\"], [0.2222222222222222, \"#7201a8\"], [0.3333333333333333, \"#9c179e\"], [0.4444444444444444, \"#bd3786\"], [0.5555555555555556, \"#d8576b\"], [0.6666666666666666, \"#ed7953\"], [0.7777777777777778, \"#fb9f3a\"], [0.8888888888888888, \"#fdca26\"], [1.0, \"#f0f921\"]], \"type\": \"histogram2dcontour\"}], \"mesh3d\": [{\"colorbar\": {\"outlinewidth\": 0, \"ticks\": \"\"}, \"type\": \"mesh3d\"}], \"parcoords\": [{\"line\": {\"colorbar\": {\"outlinewidth\": 0, \"ticks\": \"\"}}, \"type\": \"parcoords\"}], \"pie\": [{\"automargin\": true, \"type\": \"pie\"}], \"scatter\": [{\"marker\": {\"colorbar\": {\"outlinewidth\": 0, \"ticks\": \"\"}}, \"type\": \"scatter\"}], \"scatter3d\": [{\"line\": {\"colorbar\": {\"outlinewidth\": 0, \"ticks\": \"\"}}, \"marker\": {\"colorbar\": {\"outlinewidth\": 0, \"ticks\": \"\"}}, \"type\": \"scatter3d\"}], \"scattercarpet\": [{\"marker\": {\"colorbar\": {\"outlinewidth\": 0, \"ticks\": \"\"}}, \"type\": \"scattercarpet\"}], \"scattergeo\": [{\"marker\": {\"colorbar\": {\"outlinewidth\": 0, \"ticks\": \"\"}}, \"type\": \"scattergeo\"}], \"scattergl\": [{\"marker\": {\"colorbar\": {\"outlinewidth\": 0, \"ticks\": \"\"}}, \"type\": \"scattergl\"}], \"scattermapbox\": [{\"marker\": {\"colorbar\": {\"outlinewidth\": 0, \"ticks\": \"\"}}, \"type\": \"scattermapbox\"}], \"scatterpolar\": [{\"marker\": {\"colorbar\": {\"outlinewidth\": 0, \"ticks\": \"\"}}, \"type\": \"scatterpolar\"}], \"scatterpolargl\": [{\"marker\": {\"colorbar\": {\"outlinewidth\": 0, \"ticks\": \"\"}}, \"type\": \"scatterpolargl\"}], \"scatterternary\": [{\"marker\": {\"colorbar\": {\"outlinewidth\": 0, \"ticks\": \"\"}}, \"type\": \"scatterternary\"}], \"surface\": [{\"colorbar\": {\"outlinewidth\": 0, \"ticks\": \"\"}, \"colorscale\": [[0.0, \"#0d0887\"], [0.1111111111111111, \"#46039f\"], [0.2222222222222222, \"#7201a8\"], [0.3333333333333333, \"#9c179e\"], [0.4444444444444444, \"#bd3786\"], [0.5555555555555556, \"#d8576b\"], [0.6666666666666666, \"#ed7953\"], [0.7777777777777778, \"#fb9f3a\"], [0.8888888888888888, \"#fdca26\"], [1.0, \"#f0f921\"]], \"type\": \"surface\"}], \"table\": [{\"cells\": {\"fill\": {\"color\": \"#EBF0F8\"}, \"line\": {\"color\": \"white\"}}, \"header\": {\"fill\": {\"color\": \"#C8D4E3\"}, \"line\": {\"color\": \"white\"}}, \"type\": \"table\"}]}, \"layout\": {\"annotationdefaults\": {\"arrowcolor\": \"#2a3f5f\", \"arrowhead\": 0, \"arrowwidth\": 1}, \"coloraxis\": {\"colorbar\": {\"outlinewidth\": 0, \"ticks\": \"\"}}, \"colorscale\": {\"diverging\": [[0, \"#8e0152\"], [0.1, \"#c51b7d\"], [0.2, \"#de77ae\"], [0.3, \"#f1b6da\"], [0.4, \"#fde0ef\"], [0.5, \"#f7f7f7\"], [0.6, \"#e6f5d0\"], [0.7, \"#b8e186\"], [0.8, \"#7fbc41\"], [0.9, \"#4d9221\"], [1, \"#276419\"]], \"sequential\": [[0.0, \"#0d0887\"], [0.1111111111111111, \"#46039f\"], [0.2222222222222222, \"#7201a8\"], [0.3333333333333333, \"#9c179e\"], [0.4444444444444444, \"#bd3786\"], [0.5555555555555556, \"#d8576b\"], [0.6666666666666666, \"#ed7953\"], [0.7777777777777778, \"#fb9f3a\"], [0.8888888888888888, \"#fdca26\"], [1.0, \"#f0f921\"]], \"sequentialminus\": [[0.0, \"#0d0887\"], [0.1111111111111111, \"#46039f\"], [0.2222222222222222, \"#7201a8\"], [0.3333333333333333, \"#9c179e\"], [0.4444444444444444, \"#bd3786\"], [0.5555555555555556, \"#d8576b\"], [0.6666666666666666, \"#ed7953\"], [0.7777777777777778, \"#fb9f3a\"], [0.8888888888888888, \"#fdca26\"], [1.0, \"#f0f921\"]]}, \"colorway\": [\"#636efa\", \"#EF553B\", \"#00cc96\", \"#ab63fa\", \"#FFA15A\", \"#19d3f3\", \"#FF6692\", \"#B6E880\", \"#FF97FF\", \"#FECB52\"], \"font\": {\"color\": \"#2a3f5f\"}, \"geo\": {\"bgcolor\": \"white\", \"lakecolor\": \"white\", \"landcolor\": \"#E5ECF6\", \"showlakes\": true, \"showland\": true, \"subunitcolor\": \"white\"}, \"hoverlabel\": {\"align\": \"left\"}, \"hovermode\": \"closest\", \"mapbox\": {\"style\": \"light\"}, \"paper_bgcolor\": \"white\", \"plot_bgcolor\": \"#E5ECF6\", \"polar\": {\"angularaxis\": {\"gridcolor\": \"white\", \"linecolor\": \"white\", \"ticks\": \"\"}, \"bgcolor\": \"#E5ECF6\", \"radialaxis\": {\"gridcolor\": \"white\", \"linecolor\": \"white\", \"ticks\": \"\"}}, \"scene\": {\"xaxis\": {\"backgroundcolor\": \"#E5ECF6\", \"gridcolor\": \"white\", \"gridwidth\": 2, \"linecolor\": \"white\", \"showbackground\": true, \"ticks\": \"\", \"zerolinecolor\": \"white\"}, \"yaxis\": {\"backgroundcolor\": \"#E5ECF6\", \"gridcolor\": \"white\", \"gridwidth\": 2, \"linecolor\": \"white\", \"showbackground\": true, \"ticks\": \"\", \"zerolinecolor\": \"white\"}, \"zaxis\": {\"backgroundcolor\": \"#E5ECF6\", \"gridcolor\": \"white\", \"gridwidth\": 2, \"linecolor\": \"white\", \"showbackground\": true, \"ticks\": \"\", \"zerolinecolor\": \"white\"}}, \"shapedefaults\": {\"line\": {\"color\": \"#2a3f5f\"}}, \"ternary\": {\"aaxis\": {\"gridcolor\": \"white\", \"linecolor\": \"white\", \"ticks\": \"\"}, \"baxis\": {\"gridcolor\": \"white\", \"linecolor\": \"white\", \"ticks\": \"\"}, \"bgcolor\": \"#E5ECF6\", \"caxis\": {\"gridcolor\": \"white\", \"linecolor\": \"white\", \"ticks\": \"\"}}, \"title\": {\"x\": 0.05}, \"xaxis\": {\"automargin\": true, \"gridcolor\": \"white\", \"linecolor\": \"white\", \"ticks\": \"\", \"title\": {\"standoff\": 15}, \"zerolinecolor\": \"white\", \"zerolinewidth\": 2}, \"yaxis\": {\"automargin\": true, \"gridcolor\": \"white\", \"linecolor\": \"white\", \"ticks\": \"\", \"title\": {\"standoff\": 15}, \"zerolinecolor\": \"white\", \"zerolinewidth\": 2}}}, \"xaxis\": {\"anchor\": \"y\", \"domain\": [0.0, 1.0], \"title\": {\"text\": \"count\"}}, \"yaxis\": {\"anchor\": \"x\", \"domain\": [0.0, 1.0], \"title\": {\"text\": \"common_words\"}}},\n",
              "                        {\"responsive\": true}\n",
              "                    ).then(function(){\n",
              "                            \n",
              "var gd = document.getElementById('0f927a0c-baeb-4c2e-a2b9-0cecdb22451b');\n",
              "var x = new MutationObserver(function (mutations, observer) {{\n",
              "        var display = window.getComputedStyle(gd).display;\n",
              "        if (!display || display === 'none') {{\n",
              "            console.log([gd, 'removed!']);\n",
              "            Plotly.purge(gd);\n",
              "            observer.disconnect();\n",
              "        }}\n",
              "}});\n",
              "\n",
              "// Listen for the removal of the full notebook cells\n",
              "var notebookContainer = gd.closest('#notebook-container');\n",
              "if (notebookContainer) {{\n",
              "    x.observe(notebookContainer, {childList: true});\n",
              "}}\n",
              "\n",
              "// Listen for the clearing of the current output cell\n",
              "var outputEl = gd.closest('.output');\n",
              "if (outputEl) {{\n",
              "    x.observe(outputEl, {childList: true});\n",
              "}}\n",
              "\n",
              "                        })\n",
              "                };\n",
              "                \n",
              "            </script>\n",
              "        </div>\n",
              "</body>\n",
              "</html>"
            ]
          },
          "metadata": {
            "tags": []
          }
        }
      ]
    },
    {
      "cell_type": "code",
      "metadata": {
        "id": "iUaC7zNUVxm0",
        "colab_type": "code",
        "colab": {
          "base_uri": "https://localhost:8080/",
          "height": 542
        },
        "outputId": "883d7e32-b0b9-4eb1-f23c-aa71f1cf33de"
      },
      "source": [
        "#most common words\n",
        "dis= train[train['target']==1]['text'].apply(lambda x: str(x).split())\n",
        "top =Counter([item for sublist in dis for item in sublist])\n",
        "temp = pd.DataFrame(top.most_common(20))\n",
        "temp.columns = ['common_words', 'count'] \n",
        "fig = px.bar(temp, x ='count', y = 'common_words', orientation ='h')\n",
        "fig.show()"
      ],
      "execution_count": 21,
      "outputs": [
        {
          "output_type": "display_data",
          "data": {
            "text/html": [
              "<html>\n",
              "<head><meta charset=\"utf-8\" /></head>\n",
              "<body>\n",
              "    <div>\n",
              "            <script src=\"https://cdnjs.cloudflare.com/ajax/libs/mathjax/2.7.5/MathJax.js?config=TeX-AMS-MML_SVG\"></script><script type=\"text/javascript\">if (window.MathJax) {MathJax.Hub.Config({SVG: {font: \"STIX-Web\"}});}</script>\n",
              "                <script type=\"text/javascript\">window.PlotlyConfig = {MathJaxConfig: 'local'};</script>\n",
              "        <script src=\"https://cdn.plot.ly/plotly-latest.min.js\"></script>    \n",
              "            <div id=\"9df2193f-5c15-4f5e-8654-f43cb496927f\" class=\"plotly-graph-div\" style=\"height:525px; width:100%;\"></div>\n",
              "            <script type=\"text/javascript\">\n",
              "                \n",
              "                    window.PLOTLYENV=window.PLOTLYENV || {};\n",
              "                    \n",
              "                if (document.getElementById(\"9df2193f-5c15-4f5e-8654-f43cb496927f\")) {\n",
              "                    Plotly.newPlot(\n",
              "                        '9df2193f-5c15-4f5e-8654-f43cb496927f',\n",
              "                        [{\"alignmentgroup\": \"True\", \"hoverlabel\": {\"namelength\": 0}, \"hovertemplate\": \"count=%{x}<br>common_words=%{y}\", \"legendgroup\": \"\", \"marker\": {\"color\": \"#636efa\"}, \"name\": \"\", \"offsetgroup\": \"\", \"orientation\": \"h\", \"showlegend\": false, \"textposition\": \"auto\", \"type\": \"bar\", \"x\": [1051, 1037, 888, 730, 706, 462, 389, 386, 368, 302, 273, 259, 257, 244, 206, 167, 166, 159, 158, 150], \"xaxis\": \"x\", \"y\": [\"the\", \"in\", \"of\", \"a\", \"to\", \"and\", \"-\", \"on\", \"for\", \"is\", \"at\", \"I\", \"The\", \"by\", \"from\", \"A\", \"that\", \"with\", \"was\", \"are\"], \"yaxis\": \"y\"}],\n",
              "                        {\"barmode\": \"relative\", \"legend\": {\"tracegroupgap\": 0}, \"margin\": {\"t\": 60}, \"template\": {\"data\": {\"bar\": [{\"error_x\": {\"color\": \"#2a3f5f\"}, \"error_y\": {\"color\": \"#2a3f5f\"}, \"marker\": {\"line\": {\"color\": \"#E5ECF6\", \"width\": 0.5}}, \"type\": \"bar\"}], \"barpolar\": [{\"marker\": {\"line\": {\"color\": \"#E5ECF6\", \"width\": 0.5}}, \"type\": \"barpolar\"}], \"carpet\": [{\"aaxis\": {\"endlinecolor\": \"#2a3f5f\", \"gridcolor\": \"white\", \"linecolor\": \"white\", \"minorgridcolor\": \"white\", \"startlinecolor\": \"#2a3f5f\"}, \"baxis\": {\"endlinecolor\": \"#2a3f5f\", \"gridcolor\": \"white\", \"linecolor\": \"white\", \"minorgridcolor\": \"white\", \"startlinecolor\": \"#2a3f5f\"}, \"type\": \"carpet\"}], \"choropleth\": [{\"colorbar\": {\"outlinewidth\": 0, \"ticks\": \"\"}, \"type\": \"choropleth\"}], \"contour\": [{\"colorbar\": {\"outlinewidth\": 0, \"ticks\": \"\"}, \"colorscale\": [[0.0, \"#0d0887\"], [0.1111111111111111, \"#46039f\"], [0.2222222222222222, \"#7201a8\"], [0.3333333333333333, \"#9c179e\"], [0.4444444444444444, \"#bd3786\"], [0.5555555555555556, \"#d8576b\"], [0.6666666666666666, \"#ed7953\"], [0.7777777777777778, \"#fb9f3a\"], [0.8888888888888888, \"#fdca26\"], [1.0, \"#f0f921\"]], \"type\": \"contour\"}], \"contourcarpet\": [{\"colorbar\": {\"outlinewidth\": 0, \"ticks\": \"\"}, \"type\": \"contourcarpet\"}], \"heatmap\": [{\"colorbar\": {\"outlinewidth\": 0, \"ticks\": \"\"}, \"colorscale\": [[0.0, \"#0d0887\"], [0.1111111111111111, \"#46039f\"], [0.2222222222222222, \"#7201a8\"], [0.3333333333333333, \"#9c179e\"], [0.4444444444444444, \"#bd3786\"], [0.5555555555555556, \"#d8576b\"], [0.6666666666666666, \"#ed7953\"], [0.7777777777777778, \"#fb9f3a\"], [0.8888888888888888, \"#fdca26\"], [1.0, \"#f0f921\"]], \"type\": \"heatmap\"}], \"heatmapgl\": [{\"colorbar\": {\"outlinewidth\": 0, \"ticks\": \"\"}, \"colorscale\": [[0.0, \"#0d0887\"], [0.1111111111111111, \"#46039f\"], [0.2222222222222222, \"#7201a8\"], [0.3333333333333333, \"#9c179e\"], [0.4444444444444444, \"#bd3786\"], [0.5555555555555556, \"#d8576b\"], [0.6666666666666666, \"#ed7953\"], [0.7777777777777778, \"#fb9f3a\"], [0.8888888888888888, \"#fdca26\"], [1.0, \"#f0f921\"]], \"type\": \"heatmapgl\"}], \"histogram\": [{\"marker\": {\"colorbar\": {\"outlinewidth\": 0, \"ticks\": \"\"}}, \"type\": \"histogram\"}], \"histogram2d\": [{\"colorbar\": {\"outlinewidth\": 0, \"ticks\": \"\"}, \"colorscale\": [[0.0, \"#0d0887\"], [0.1111111111111111, \"#46039f\"], [0.2222222222222222, \"#7201a8\"], [0.3333333333333333, \"#9c179e\"], [0.4444444444444444, \"#bd3786\"], [0.5555555555555556, \"#d8576b\"], [0.6666666666666666, \"#ed7953\"], [0.7777777777777778, \"#fb9f3a\"], [0.8888888888888888, \"#fdca26\"], [1.0, \"#f0f921\"]], \"type\": \"histogram2d\"}], \"histogram2dcontour\": [{\"colorbar\": {\"outlinewidth\": 0, \"ticks\": \"\"}, \"colorscale\": [[0.0, \"#0d0887\"], [0.1111111111111111, \"#46039f\"], [0.2222222222222222, \"#7201a8\"], [0.3333333333333333, \"#9c179e\"], [0.4444444444444444, \"#bd3786\"], [0.5555555555555556, \"#d8576b\"], [0.6666666666666666, \"#ed7953\"], [0.7777777777777778, \"#fb9f3a\"], [0.8888888888888888, \"#fdca26\"], [1.0, \"#f0f921\"]], \"type\": \"histogram2dcontour\"}], \"mesh3d\": [{\"colorbar\": {\"outlinewidth\": 0, \"ticks\": \"\"}, \"type\": \"mesh3d\"}], \"parcoords\": [{\"line\": {\"colorbar\": {\"outlinewidth\": 0, \"ticks\": \"\"}}, \"type\": \"parcoords\"}], \"pie\": [{\"automargin\": true, \"type\": \"pie\"}], \"scatter\": [{\"marker\": {\"colorbar\": {\"outlinewidth\": 0, \"ticks\": \"\"}}, \"type\": \"scatter\"}], \"scatter3d\": [{\"line\": {\"colorbar\": {\"outlinewidth\": 0, \"ticks\": \"\"}}, \"marker\": {\"colorbar\": {\"outlinewidth\": 0, \"ticks\": \"\"}}, \"type\": \"scatter3d\"}], \"scattercarpet\": [{\"marker\": {\"colorbar\": {\"outlinewidth\": 0, \"ticks\": \"\"}}, \"type\": \"scattercarpet\"}], \"scattergeo\": [{\"marker\": {\"colorbar\": {\"outlinewidth\": 0, \"ticks\": \"\"}}, \"type\": \"scattergeo\"}], \"scattergl\": [{\"marker\": {\"colorbar\": {\"outlinewidth\": 0, \"ticks\": \"\"}}, \"type\": \"scattergl\"}], \"scattermapbox\": [{\"marker\": {\"colorbar\": {\"outlinewidth\": 0, \"ticks\": \"\"}}, \"type\": \"scattermapbox\"}], \"scatterpolar\": [{\"marker\": {\"colorbar\": {\"outlinewidth\": 0, \"ticks\": \"\"}}, \"type\": \"scatterpolar\"}], \"scatterpolargl\": [{\"marker\": {\"colorbar\": {\"outlinewidth\": 0, \"ticks\": \"\"}}, \"type\": \"scatterpolargl\"}], \"scatterternary\": [{\"marker\": {\"colorbar\": {\"outlinewidth\": 0, \"ticks\": \"\"}}, \"type\": \"scatterternary\"}], \"surface\": [{\"colorbar\": {\"outlinewidth\": 0, \"ticks\": \"\"}, \"colorscale\": [[0.0, \"#0d0887\"], [0.1111111111111111, \"#46039f\"], [0.2222222222222222, \"#7201a8\"], [0.3333333333333333, \"#9c179e\"], [0.4444444444444444, \"#bd3786\"], [0.5555555555555556, \"#d8576b\"], [0.6666666666666666, \"#ed7953\"], [0.7777777777777778, \"#fb9f3a\"], [0.8888888888888888, \"#fdca26\"], [1.0, \"#f0f921\"]], \"type\": \"surface\"}], \"table\": [{\"cells\": {\"fill\": {\"color\": \"#EBF0F8\"}, \"line\": {\"color\": \"white\"}}, \"header\": {\"fill\": {\"color\": \"#C8D4E3\"}, \"line\": {\"color\": \"white\"}}, \"type\": \"table\"}]}, \"layout\": {\"annotationdefaults\": {\"arrowcolor\": \"#2a3f5f\", \"arrowhead\": 0, \"arrowwidth\": 1}, \"coloraxis\": {\"colorbar\": {\"outlinewidth\": 0, \"ticks\": \"\"}}, \"colorscale\": {\"diverging\": [[0, \"#8e0152\"], [0.1, \"#c51b7d\"], [0.2, \"#de77ae\"], [0.3, \"#f1b6da\"], [0.4, \"#fde0ef\"], [0.5, \"#f7f7f7\"], [0.6, \"#e6f5d0\"], [0.7, \"#b8e186\"], [0.8, \"#7fbc41\"], [0.9, \"#4d9221\"], [1, \"#276419\"]], \"sequential\": [[0.0, \"#0d0887\"], [0.1111111111111111, \"#46039f\"], [0.2222222222222222, \"#7201a8\"], [0.3333333333333333, \"#9c179e\"], [0.4444444444444444, \"#bd3786\"], [0.5555555555555556, \"#d8576b\"], [0.6666666666666666, \"#ed7953\"], [0.7777777777777778, \"#fb9f3a\"], [0.8888888888888888, \"#fdca26\"], [1.0, \"#f0f921\"]], \"sequentialminus\": [[0.0, \"#0d0887\"], [0.1111111111111111, \"#46039f\"], [0.2222222222222222, \"#7201a8\"], [0.3333333333333333, \"#9c179e\"], [0.4444444444444444, \"#bd3786\"], [0.5555555555555556, \"#d8576b\"], [0.6666666666666666, \"#ed7953\"], [0.7777777777777778, \"#fb9f3a\"], [0.8888888888888888, \"#fdca26\"], [1.0, \"#f0f921\"]]}, \"colorway\": [\"#636efa\", \"#EF553B\", \"#00cc96\", \"#ab63fa\", \"#FFA15A\", \"#19d3f3\", \"#FF6692\", \"#B6E880\", \"#FF97FF\", \"#FECB52\"], \"font\": {\"color\": \"#2a3f5f\"}, \"geo\": {\"bgcolor\": \"white\", \"lakecolor\": \"white\", \"landcolor\": \"#E5ECF6\", \"showlakes\": true, \"showland\": true, \"subunitcolor\": \"white\"}, \"hoverlabel\": {\"align\": \"left\"}, \"hovermode\": \"closest\", \"mapbox\": {\"style\": \"light\"}, \"paper_bgcolor\": \"white\", \"plot_bgcolor\": \"#E5ECF6\", \"polar\": {\"angularaxis\": {\"gridcolor\": \"white\", \"linecolor\": \"white\", \"ticks\": \"\"}, \"bgcolor\": \"#E5ECF6\", \"radialaxis\": {\"gridcolor\": \"white\", \"linecolor\": \"white\", \"ticks\": \"\"}}, \"scene\": {\"xaxis\": {\"backgroundcolor\": \"#E5ECF6\", \"gridcolor\": \"white\", \"gridwidth\": 2, \"linecolor\": \"white\", \"showbackground\": true, \"ticks\": \"\", \"zerolinecolor\": \"white\"}, \"yaxis\": {\"backgroundcolor\": \"#E5ECF6\", \"gridcolor\": \"white\", \"gridwidth\": 2, \"linecolor\": \"white\", \"showbackground\": true, \"ticks\": \"\", \"zerolinecolor\": \"white\"}, \"zaxis\": {\"backgroundcolor\": \"#E5ECF6\", \"gridcolor\": \"white\", \"gridwidth\": 2, \"linecolor\": \"white\", \"showbackground\": true, \"ticks\": \"\", \"zerolinecolor\": \"white\"}}, \"shapedefaults\": {\"line\": {\"color\": \"#2a3f5f\"}}, \"ternary\": {\"aaxis\": {\"gridcolor\": \"white\", \"linecolor\": \"white\", \"ticks\": \"\"}, \"baxis\": {\"gridcolor\": \"white\", \"linecolor\": \"white\", \"ticks\": \"\"}, \"bgcolor\": \"#E5ECF6\", \"caxis\": {\"gridcolor\": \"white\", \"linecolor\": \"white\", \"ticks\": \"\"}}, \"title\": {\"x\": 0.05}, \"xaxis\": {\"automargin\": true, \"gridcolor\": \"white\", \"linecolor\": \"white\", \"ticks\": \"\", \"title\": {\"standoff\": 15}, \"zerolinecolor\": \"white\", \"zerolinewidth\": 2}, \"yaxis\": {\"automargin\": true, \"gridcolor\": \"white\", \"linecolor\": \"white\", \"ticks\": \"\", \"title\": {\"standoff\": 15}, \"zerolinecolor\": \"white\", \"zerolinewidth\": 2}}}, \"xaxis\": {\"anchor\": \"y\", \"domain\": [0.0, 1.0], \"title\": {\"text\": \"count\"}}, \"yaxis\": {\"anchor\": \"x\", \"domain\": [0.0, 1.0], \"title\": {\"text\": \"common_words\"}}},\n",
              "                        {\"responsive\": true}\n",
              "                    ).then(function(){\n",
              "                            \n",
              "var gd = document.getElementById('9df2193f-5c15-4f5e-8654-f43cb496927f');\n",
              "var x = new MutationObserver(function (mutations, observer) {{\n",
              "        var display = window.getComputedStyle(gd).display;\n",
              "        if (!display || display === 'none') {{\n",
              "            console.log([gd, 'removed!']);\n",
              "            Plotly.purge(gd);\n",
              "            observer.disconnect();\n",
              "        }}\n",
              "}});\n",
              "\n",
              "// Listen for the removal of the full notebook cells\n",
              "var notebookContainer = gd.closest('#notebook-container');\n",
              "if (notebookContainer) {{\n",
              "    x.observe(notebookContainer, {childList: true});\n",
              "}}\n",
              "\n",
              "// Listen for the clearing of the current output cell\n",
              "var outputEl = gd.closest('.output');\n",
              "if (outputEl) {{\n",
              "    x.observe(outputEl, {childList: true});\n",
              "}}\n",
              "\n",
              "                        })\n",
              "                };\n",
              "                \n",
              "            </script>\n",
              "        </div>\n",
              "</body>\n",
              "</html>"
            ]
          },
          "metadata": {
            "tags": []
          }
        }
      ]
    },
    {
      "cell_type": "code",
      "metadata": {
        "id": "gY2xv_HgY-tk",
        "colab_type": "code",
        "colab": {}
      },
      "source": [
        "#get bigrams. \n",
        "def get_top_tweet_bigrams (corpus,n=None):\n",
        "  vec = CountVectorizer(ngram_range =(2,2)).fit(corpus)\n",
        "  bag_of_words = vec.transform(corpus)\n",
        "  sum_words = bag_of_words.sum(axis=0) \n",
        "  words_freq = [(word, sum_words[0, idx]) for word, idx in vec.vocabulary_.items()]\n",
        "  words_freq =sorted(words_freq, key = lambda x: x[1], reverse=True)\n",
        "  return words_freq[:n]\n"
      ],
      "execution_count": 22,
      "outputs": []
    },
    {
      "cell_type": "code",
      "metadata": {
        "id": "XC_Bu7LgR9_2",
        "colab_type": "code",
        "colab": {
          "base_uri": "https://localhost:8080/",
          "height": 337
        },
        "outputId": "f60943ff-0847-446e-91b1-c8f3275bf05a"
      },
      "source": [
        "plt.figure(figsize=(10,5))\n",
        "top_bigrams = get_top_tweet_bigrams(train['text'])[:10]\n",
        "x,y=map(list,zip(*top_bigrams))\n",
        "sns.barplot(x=y,y=x)"
      ],
      "execution_count": 23,
      "outputs": [
        {
          "output_type": "execute_result",
          "data": {
            "text/plain": [
              "<matplotlib.axes._subplots.AxesSubplot at 0x7f0c568ee978>"
            ]
          },
          "metadata": {
            "tags": []
          },
          "execution_count": 23
        },
        {
          "output_type": "display_data",
          "data": {
            "image/png": "[encoded data removed]",
            "text/plain": [
              "<Figure size 720x360 with 1 Axes>"
            ]
          },
          "metadata": {
            "tags": []
          }
        }
      ]
    },
    {
      "cell_type": "code",
      "metadata": {
        "id": "U_5q4XpYUixd",
        "colab_type": "code",
        "colab": {}
      },
      "source": [
        "#We have to clean the data since the bigrams shows that there are many links\n",
        "# hashtags in the text which might hinder our analysis \n",
        "\n",
        "\n",
        "def clean_text(text):\n",
        "    text = str(text).lower()\n",
        "    text = re.sub('\\[.*?\\]', '', text)\n",
        "    text = re.sub('https?://\\S+|www\\.\\S+', '', text)\n",
        "    text = re.sub('<.*?>+', '', text)\n",
        "    text = re.sub(\"[\"\n",
        "                  u\"\\U0001F600-\\U0001F64F\"  # emoticons\n",
        "                           u\"\\U0001F300-\\U0001F5FF\"  # symbols & pictographs\n",
        "                           u\"\\U0001F680-\\U0001F6FF\"  # transport & map symbols\n",
        "                           u\"\\U0001F1E0-\\U0001F1FF\"  # flags (iOS)\n",
        "                           u\"\\U00002702-\\U000027B0\"\n",
        "                           u\"\\U000024C2-\\U0001F251\"\n",
        "                           \"]+\",'', text)\n",
        "    text = re.sub('[%s]' % re.escape(string.punctuation), '', text)\n",
        "    text = re.sub('\\n', '', text)\n",
        "    text = re.sub('\\w*\\d\\w*', '', text)\n",
        "    text = re.sub(r\"\\x89Û_\", \"\", text)\n",
        "    text = re.sub(r\"\\x89ÛÒ\", \"\", text)\n",
        "    text = re.sub(r\"\\x89ÛÓ\", \"\", text)\n",
        "    text = re.sub(r\"\\x89ÛÏWhen\", \"When\", text)\n",
        "    text = re.sub(r\"\\x89ÛÏ\", \"\", text)\n",
        "    text = re.sub(r\"China\\x89Ûªs\", \"China's\", text)\n",
        "    text = re.sub(r\"let\\x89Ûªs\", \"let's\", text)\n",
        "    text = re.sub(r\"\\x89Û÷\", \"\", text)\n",
        "    text = re.sub(r\"\\x89Ûª\", \"\", text)\n",
        "    text = re.sub(r\"\\x89Û\\x9d\", \"\", text)\n",
        "    text = re.sub(r\"å_\", \"\", text)\n",
        "    text = re.sub(r\"\\x89Û¢\", \"\", text)\n",
        "    text = re.sub(r\"\\x89Û¢åÊ\", \"\", text)\n",
        "    text = re.sub(r\"fromåÊwounds\", \"from wounds\", text)\n",
        "    text = re.sub(r\"åÊ\", \"\", text)\n",
        "    text = re.sub(r\"åÈ\", \"\", text)\n",
        "    text = re.sub(r\"JapÌ_n\", \"Japan\", text)    \n",
        "    text = re.sub(r\"Ì©\", \"e\", text)\n",
        "    text = re.sub(r\"å¨\", \"\", text)\n",
        "    text = re.sub(r\"SuruÌ¤\", \"Suruc\", text)\n",
        "    text = re.sub(r\"åÇ\", \"\", text)\n",
        "    text = re.sub(r\"å£3million\", \"3 million\", text)\n",
        "    text = re.sub(r\"åÀ\", \"\", text)\n",
        "    \n",
        "    # Contractions\n",
        "    text = re.sub(r\"he's\", \"he is\", text)\n",
        "    text = re.sub(r\"there's\", \"there is\", text)\n",
        "    text = re.sub(r\"We're\", \"We are\", text)\n",
        "    text = re.sub(r\"That's\", \"That is\", text)\n",
        "    text = re.sub(r\"won't\", \"will not\", text)\n",
        "    text = re.sub(r\"they're\", \"they are\", text)\n",
        "    text = re.sub(r\"Can't\", \"Cannot\", text)\n",
        "    text = re.sub(r\"wasn't\", \"was not\", text)\n",
        "    text = re.sub(r\"don\\x89Ûªt\", \"do not\", text)\n",
        "    text = re.sub(r\"aren't\", \"are not\", text)\n",
        "    text = re.sub(r\"isn't\", \"is not\", text)\n",
        "    text = re.sub(r\"What's\", \"What is\", text)\n",
        "    text = re.sub(r\"haven't\", \"have not\", text)\n",
        "    text = re.sub(r\"hasn't\", \"has not\", text)\n",
        "    text = re.sub(r\"There's\", \"There is\", text)\n",
        "    text = re.sub(r\"He's\", \"He is\", text)\n",
        "    text = re.sub(r\"It's\", \"It is\", text)\n",
        "    text = re.sub(r\"You're\", \"You are\", text)\n",
        "    text = re.sub(r\"I'M\", \"I am\", text)\n",
        "    text = re.sub(r\"shouldn't\", \"should not\", text)\n",
        "    text = re.sub(r\"wouldn't\", \"would not\", text)\n",
        "    text = re.sub(r\"i'm\", \"I am\", text)\n",
        "    text = re.sub(r\"I\\x89Ûªm\", \"I am\", text)\n",
        "    text = re.sub(r\"I'm\", \"I am\", text)\n",
        "    text = re.sub(r\"Isn't\", \"is not\", text)\n",
        "    text = re.sub(r\"Here's\", \"Here is\", text)\n",
        "    text = re.sub(r\"you've\", \"you have\", text)\n",
        "    text = re.sub(r\"you\\x89Ûªve\", \"you have\", text)\n",
        "    text = re.sub(r\"we're\", \"we are\", text)\n",
        "    text = re.sub(r\"what's\", \"what is\", text)\n",
        "    text = re.sub(r\"couldn't\", \"could not\", text)\n",
        "    text = re.sub(r\"we've\", \"we have\", text)\n",
        "    text = re.sub(r\"it\\x89Ûªs\", \"it is\", text)\n",
        "    text = re.sub(r\"doesn\\x89Ûªt\", \"does not\", text)\n",
        "    text = re.sub(r\"It\\x89Ûªs\", \"It is\", text)\n",
        "    text = re.sub(r\"Here\\x89Ûªs\", \"Here is\", text)\n",
        "    text = re.sub(r\"who's\", \"who is\", text)\n",
        "    text = re.sub(r\"I\\x89Ûªve\", \"I have\", text)\n",
        "    text = re.sub(r\"y'all\", \"you all\", text)\n",
        "    text = re.sub(r\"can\\x89Ûªt\", \"cannot\", text)\n",
        "    text = re.sub(r\"would've\", \"would have\", text)\n",
        "    text = re.sub(r\"it'll\", \"it will\", text)\n",
        "    text = re.sub(r\"we'll\", \"we will\", text)\n",
        "    text = re.sub(r\"wouldn\\x89Ûªt\", \"would not\", text)\n",
        "    text = re.sub(r\"We've\", \"We have\", text)\n",
        "    text = re.sub(r\"he'll\", \"he will\", text)\n",
        "    text = re.sub(r\"Y'all\", \"You all\", text)\n",
        "    text = re.sub(r\"Weren't\", \"Were not\", text)\n",
        "    text = re.sub(r\"Didn't\", \"Did not\", text)\n",
        "    text = re.sub(r\"they'll\", \"they will\", text)\n",
        "    text = re.sub(r\"they'd\", \"they would\", text)\n",
        "    text = re.sub(r\"DON'T\", \"DO NOT\", text)\n",
        "    text = re.sub(r\"That\\x89Ûªs\", \"That is\", text)\n",
        "    text = re.sub(r\"they've\", \"they have\", text)\n",
        "    text = re.sub(r\"i'd\", \"I would\", text)\n",
        "    text = re.sub(r\"should've\", \"should have\", text)\n",
        "    text = re.sub(r\"You\\x89Ûªre\", \"You are\", text)\n",
        "    text = re.sub(r\"where's\", \"where is\", text)\n",
        "    text = re.sub(r\"Don\\x89Ûªt\", \"Do not\", text)\n",
        "    text = re.sub(r\"we'd\", \"we would\", text)\n",
        "    text = re.sub(r\"i'll\", \"I will\", text)\n",
        "    text = re.sub(r\"weren't\", \"were not\", text)\n",
        "    text = re.sub(r\"They're\", \"They are\", text)\n",
        "    text = re.sub(r\"Can\\x89Ûªt\", \"Cannot\", text)\n",
        "    text = re.sub(r\"you\\x89Ûªll\", \"you will\", text)\n",
        "    text = re.sub(r\"I\\x89Ûªd\", \"I would\", text)\n",
        "    text = re.sub(r\"let's\", \"let us\", text)\n",
        "    text = re.sub(r\"it's\", \"it is\", text)\n",
        "    text = re.sub(r\"can't\", \"cannot\", text)\n",
        "    text = re.sub(r\"don't\", \"do not\", text)\n",
        "    text = re.sub(r\"you're\", \"you are\", text)\n",
        "    text = re.sub(r\"i've\", \"I have\", text)\n",
        "    text = re.sub(r\"that's\", \"that is\", text)\n",
        "    text = re.sub(r\"i'll\", \"I will\", text)\n",
        "    text = re.sub(r\"doesn't\", \"does not\", text)\n",
        "    text = re.sub(r\"i'd\", \"I would\", text)\n",
        "    text = re.sub(r\"didn't\", \"did not\", text)\n",
        "    text = re.sub(r\"ain't\", \"am not\", text)\n",
        "    text = re.sub(r\"you'll\", \"you will\", text)\n",
        "    text = re.sub(r\"I've\", \"I have\", text)\n",
        "    text = re.sub(r\"Don't\", \"do not\", text)\n",
        "    text = re.sub(r\"I'll\", \"I will\", text)\n",
        "    text = re.sub(r\"I'd\", \"I would\", text)\n",
        "    text = re.sub(r\"Let's\", \"Let us\", text)\n",
        "    text = re.sub(r\"you'd\", \"You would\", text)\n",
        "    text = re.sub(r\"It's\", \"It is\", text)\n",
        "    text = re.sub(r\"Ain't\", \"am not\", text)\n",
        "    text = re.sub(r\"Haven't\", \"Have not\", text)\n",
        "    text = re.sub(r\"Could've\", \"Could have\", text)\n",
        "    text = re.sub(r\"youve\", \"you have\", text)  \n",
        "    text = re.sub(r\"donå«t\", \"do not\", text)   \n",
        "            \n",
        "    # Character entity references\n",
        "    text = re.sub(r\"&gt;\", \">\", text)\n",
        "    text = re.sub(r\"&lt;\", \"<\", text)\n",
        "    text = re.sub(r\"&amp;\", \"&\", text)\n",
        "    \n",
        "    # Typos, slang and informal abbreviations\n",
        "    text = re.sub(r\"w/e\", \"whatever\", text)\n",
        "    text = re.sub(r\"w/\", \"with\", text)\n",
        "    text = re.sub(r\"USAgov\", \"USA government\", text)\n",
        "    text = re.sub(r\"recentlu\", \"recently\", text)\n",
        "    text = re.sub(r\"Ph0tos\", \"Photos\", text)\n",
        "    text = re.sub(r\"amirite\", \"am I right\", text)\n",
        "    text = re.sub(r\"exp0sed\", \"exposed\", text)\n",
        "    text = re.sub(r\"<3\", \"love\", text)\n",
        "    text = re.sub(r\"amageddon\", \"armageddon\", text)\n",
        "    text = re.sub(r\"Trfc\", \"Traffic\", text)\n",
        "    text = re.sub(r\"8/5/2015\", \"2015-08-05\", text)\n",
        "    text = re.sub(r\"WindStorm\", \"Wind Storm\", text)\n",
        "    text = re.sub(r\"8/6/2015\", \"2015-08-06\", text)\n",
        "    text = re.sub(r\"10:38PM\", \"10:38 PM\", text)\n",
        "    text = re.sub(r\"10:30pm\", \"10:30 PM\", text)\n",
        "    text = re.sub(r\"16yr\", \"16 year\", text)\n",
        "    text = re.sub(r\"lmao\", \"laughing my ass off\", text)   \n",
        "    text = re.sub(r\"TRAUMATISED\", \"traumatized\", text)\n",
        "    \n",
        "    # Hashtags and usernames\n",
        "    text = re.sub(r\"IranDeal\", \"Iran Deal\", text)\n",
        "    text = re.sub(r\"ArianaGrande\", \"Ariana Grande\", text)\n",
        "    text = re.sub(r\"camilacabello97\", \"camila cabello\", text) \n",
        "    text = re.sub(r\"RondaRousey\", \"Ronda Rousey\", text)     \n",
        "    text = re.sub(r\"MTVHottest\", \"MTV Hottest\", text)\n",
        "    text = re.sub(r\"TrapMusic\", \"Trap Music\", text)\n",
        "    text = re.sub(r\"ProphetMuhammad\", \"Prophet Muhammad\", text)\n",
        "    text = re.sub(r\"PantherAttack\", \"Panther Attack\", text)\n",
        "    text = re.sub(r\"StrategicPatience\", \"Strategic Patience\", text)\n",
        "    text = re.sub(r\"socialnews\", \"social news\", text)\n",
        "    text = re.sub(r\"NASAHurricane\", \"NASA Hurricane\", text)\n",
        "    text = re.sub(r\"onlinecommunities\", \"online communities\", text)\n",
        "    text = re.sub(r\"humanconsumption\", \"human consumption\", text)\n",
        "    text = re.sub(r\"Typhoon-Devastated\", \"Typhoon Devastated\", text)\n",
        "    text = re.sub(r\"Meat-Loving\", \"Meat Loving\", text)\n",
        "    text = re.sub(r\"facialabuse\", \"facial abuse\", text)\n",
        "    text = re.sub(r\"LakeCounty\", \"Lake County\", text)\n",
        "    text = re.sub(r\"BeingAuthor\", \"Being Author\", text)\n",
        "    text = re.sub(r\"withheavenly\", \"with heavenly\", text)\n",
        "    text = re.sub(r\"thankU\", \"thank you\", text)\n",
        "    text = re.sub(r\"iTunesMusic\", \"iTunes Music\", text)\n",
        "    text = re.sub(r\"OffensiveContent\", \"Offensive Content\", text)\n",
        "    text = re.sub(r\"WorstSummerJob\", \"Worst Summer Job\", text)\n",
        "    text = re.sub(r\"HarryBeCareful\", \"Harry Be Careful\", text)\n",
        "    text = re.sub(r\"NASASolarSystem\", \"NASA Solar System\", text)\n",
        "    text = re.sub(r\"animalrescue\", \"animal rescue\", text)\n",
        "    text = re.sub(r\"KurtSchlichter\", \"Kurt Schlichter\", text)\n",
        "    text = re.sub(r\"aRmageddon\", \"armageddon\", text)\n",
        "    text = re.sub(r\"Throwingknifes\", \"Throwing knives\", text)\n",
        "    text = re.sub(r\"GodsLove\", \"God's Love\", text)\n",
        "    text = re.sub(r\"bookboost\", \"book boost\", text)\n",
        "    text = re.sub(r\"ibooklove\", \"I book love\", text)\n",
        "    text = re.sub(r\"NestleIndia\", \"Nestle India\", text)\n",
        "    text = re.sub(r\"realDonaldTrump\", \"Donald Trump\", text)\n",
        "    text = re.sub(r\"DavidVonderhaar\", \"David Vonderhaar\", text)\n",
        "    text = re.sub(r\"CecilTheLion\", \"Cecil The Lion\", text)\n",
        "    text = re.sub(r\"weathernetwork\", \"weather network\", text)\n",
        "    text = re.sub(r\"withBioterrorism&use\", \"with Bioterrorism & use\", text)\n",
        "    text = re.sub(r\"Hostage&2\", \"Hostage & 2\", text)\n",
        "    text = re.sub(r\"GOPDebate\", \"GOP Debate\", text)\n",
        "    text = re.sub(r\"RickPerry\", \"Rick Perry\", text)\n",
        "    text = re.sub(r\"frontpage\", \"front page\", text)\n",
        "    text = re.sub(r\"NewsInTexts\", \"News In Texts\", text)\n",
        "    text = re.sub(r\"ViralSpell\", \"Viral Spell\", text)\n",
        "    text = re.sub(r\"til_now\", \"until now\", text)\n",
        "    text = re.sub(r\"volcanoinRussia\", \"volcano in Russia\", text)\n",
        "    text = re.sub(r\"ZippedNews\", \"Zipped News\", text)\n",
        "    text = re.sub(r\"MicheleBachman\", \"Michele Bachman\", text)\n",
        "    text = re.sub(r\"53inch\", \"53 inch\", text)\n",
        "    text = re.sub(r\"KerrickTrial\", \"Kerrick Trial\", text)\n",
        "    text = re.sub(r\"abstorm\", \"Alberta Storm\", text)\n",
        "    text = re.sub(r\"Beyhive\", \"Beyonce hive\", text)\n",
        "    text = re.sub(r\"IDFire\", \"Idaho Fire\", text)\n",
        "    text = re.sub(r\"DETECTADO\", \"Detected\", text)\n",
        "    text = re.sub(r\"RockyFire\", \"Rocky Fire\", text)\n",
        "    text = re.sub(r\"Listen/Buy\", \"Listen / Buy\", text)\n",
        "    text = re.sub(r\"NickCannon\", \"Nick Cannon\", text)\n",
        "    text = re.sub(r\"FaroeIslands\", \"Faroe Islands\", text)\n",
        "    text = re.sub(r\"yycstorm\", \"Calgary Storm\", text)\n",
        "    text = re.sub(r\"IDPs:\", \"Internally Displaced People :\", text)\n",
        "    text = re.sub(r\"ArtistsUnited\", \"Artists United\", text)\n",
        "    text = re.sub(r\"ClaytonBryant\", \"Clayton Bryant\", text)\n",
        "    text = re.sub(r\"jimmyfallon\", \"jimmy fallon\", text)\n",
        "    text = re.sub(r\"justinbieber\", \"justin bieber\", text)  \n",
        "    text = re.sub(r\"UTC2015\", \"UTC 2015\", text)\n",
        "    text = re.sub(r\"Time2015\", \"Time 2015\", text)\n",
        "    text = re.sub(r\"djicemoon\", \"dj icemoon\", text)\n",
        "    text = re.sub(r\"LivingSafely\", \"Living Safely\", text)\n",
        "    text = re.sub(r\"FIFA16\", \"Fifa 2016\", text)\n",
        "    text = re.sub(r\"thisiswhywecanthavenicethings\", \"this is why we cannot have nice things\", text)\n",
        "    text = re.sub(r\"bbcnews\", \"bbc news\", text)\n",
        "    text = re.sub(r\"UndergroundRailraod\", \"Underground Railraod\", text)\n",
        "    text = re.sub(r\"c4news\", \"c4 news\", text)\n",
        "    text = re.sub(r\"OBLITERATION\", \"obliteration\", text)\n",
        "    text = re.sub(r\"MUDSLIDE\", \"mudslide\", text)\n",
        "    text = re.sub(r\"NoSurrender\", \"No Surrender\", text)\n",
        "    text = re.sub(r\"NotExplained\", \"Not Explained\", text)\n",
        "    text = re.sub(r\"greatbritishbakeoff\", \"great british bake off\", text)\n",
        "    text = re.sub(r\"LondonFire\", \"London Fire\", text)\n",
        "    text = re.sub(r\"KOTAWeather\", \"KOTA Weather\", text)\n",
        "    text = re.sub(r\"LuchaUnderground\", \"Lucha Underground\", text)\n",
        "    text = re.sub(r\"KOIN6News\", \"KOIN 6 News\", text)\n",
        "    text = re.sub(r\"LiveOnK2\", \"Live On K2\", text)\n",
        "    text = re.sub(r\"9NewsGoldCoast\", \"9 News Gold Coast\", text)\n",
        "    text = re.sub(r\"nikeplus\", \"nike plus\", text)\n",
        "    text = re.sub(r\"david_cameron\", \"David Cameron\", text)\n",
        "    text = re.sub(r\"peterjukes\", \"Peter Jukes\", text)\n",
        "    text = re.sub(r\"JamesMelville\", \"James Melville\", text)\n",
        "    text = re.sub(r\"megynkelly\", \"Megyn Kelly\", text)\n",
        "    text = re.sub(r\"cnewslive\", \"C News Live\", text)\n",
        "    text = re.sub(r\"JamaicaObserver\", \"Jamaica Observer\", text)\n",
        "    text = re.sub(r\"TextLikeItsSeptember11th2001\", \"Text like it is september 11th 2001\", text)\n",
        "    text = re.sub(r\"cbplawyers\", \"cbp lawyers\", text)\n",
        "    text = re.sub(r\"fewmoretexts\", \"few more texts\", text)\n",
        "    text = re.sub(r\"BlackLivesMatter\", \"Black Lives Matter\", text)\n",
        "    text = re.sub(r\"cjoyner\", \"Chris Joyner\", text)\n",
        "    text = re.sub(r\"ENGvAUS\", \"England vs Australia\", text)\n",
        "    text = re.sub(r\"ScottWalker\", \"Scott Walker\", text)\n",
        "    text = re.sub(r\"MikeParrActor\", \"Michael Parr\", text)\n",
        "    text = re.sub(r\"4PlayThursdays\", \"Foreplay Thursdays\", text)\n",
        "    text = re.sub(r\"TGF2015\", \"Tontitown Grape Festival\", text)\n",
        "    text = re.sub(r\"realmandyrain\", \"Mandy Rain\", text)\n",
        "    text = re.sub(r\"GraysonDolan\", \"Grayson Dolan\", text)\n",
        "    text = re.sub(r\"ApolloBrown\", \"Apollo Brown\", text)\n",
        "    text = re.sub(r\"saddlebrooke\", \"Saddlebrooke\", text)\n",
        "    text = re.sub(r\"TontitownGrape\", \"Tontitown Grape\", text)\n",
        "    text = re.sub(r\"AbbsWinston\", \"Abbs Winston\", text)\n",
        "    text = re.sub(r\"ShaunKing\", \"Shaun King\", text)\n",
        "    text = re.sub(r\"MeekMill\", \"Meek Mill\", text)\n",
        "    text = re.sub(r\"TornadoGiveaway\", \"Tornado Giveaway\", text)\n",
        "    text = re.sub(r\"GRupdates\", \"GR updates\", text)\n",
        "    text = re.sub(r\"SouthDowns\", \"South Downs\", text)\n",
        "    text = re.sub(r\"braininjury\", \"brain injury\", text)\n",
        "    text = re.sub(r\"auspol\", \"Australian politics\", text)\n",
        "    text = re.sub(r\"PlannedParenthood\", \"Planned Parenthood\", text)\n",
        "    text = re.sub(r\"calgaryweather\", \"Calgary Weather\", text)\n",
        "    text = re.sub(r\"weallheartonedirection\", \"we all heart one direction\", text)\n",
        "    text = re.sub(r\"edsheeran\", \"Ed Sheeran\", text)\n",
        "    text = re.sub(r\"TrueHeroes\", \"True Heroes\", text)\n",
        "    text = re.sub(r\"S3XLEAK\", \"sex leak\", text)\n",
        "    text = re.sub(r\"ComplexMag\", \"Complex Magazine\", text)\n",
        "    text = re.sub(r\"TheAdvocateMag\", \"The Advocate Magazine\", text)\n",
        "    text = re.sub(r\"CityofCalgary\", \"City of Calgary\", text)\n",
        "    text = re.sub(r\"EbolaOutbreak\", \"Ebola Outbreak\", text)\n",
        "    text = re.sub(r\"SummerFate\", \"Summer Fate\", text)\n",
        "    text = re.sub(r\"RAmag\", \"Royal Academy Magazine\", text)\n",
        "    text = re.sub(r\"offers2go\", \"offers to go\", text)\n",
        "    text = re.sub(r\"foodscare\", \"food scare\", text)\n",
        "    text = re.sub(r\"MNPDNashville\", \"Metropolitan Nashville Police Department\", text)\n",
        "    text = re.sub(r\"TfLBusAlerts\", \"TfL Bus Alerts\", text)\n",
        "    text = re.sub(r\"GamerGate\", \"Gamer Gate\", text)\n",
        "    text = re.sub(r\"IHHen\", \"Humanitarian Relief\", text)\n",
        "    text = re.sub(r\"spinningbot\", \"spinning bot\", text)\n",
        "    text = re.sub(r\"ModiMinistry\", \"Modi Ministry\", text)\n",
        "    text = re.sub(r\"TAXIWAYS\", \"taxi ways\", text)\n",
        "    text = re.sub(r\"Calum5SOS\", \"Calum Hood\", text)\n",
        "    text = re.sub(r\"po_st\", \"po.st\", text)\n",
        "    text = re.sub(r\"scoopit\", \"scoop.it\", text)\n",
        "    text = re.sub(r\"UltimaLucha\", \"Ultima Lucha\", text)\n",
        "    text = re.sub(r\"JonathanFerrell\", \"Jonathan Ferrell\", text)\n",
        "    text = re.sub(r\"aria_ahrary\", \"Aria Ahrary\", text)\n",
        "    text = re.sub(r\"rapidcity\", \"Rapid City\", text)\n",
        "    text = re.sub(r\"OutBid\", \"outbid\", text)\n",
        "    text = re.sub(r\"lavenderpoetrycafe\", \"lavender poetry cafe\", text)\n",
        "    text = re.sub(r\"EudryLantiqua\", \"Eudry Lantiqua\", text)\n",
        "    text = re.sub(r\"15PM\", \"15 PM\", text)\n",
        "    text = re.sub(r\"OriginalFunko\", \"Funko\", text)\n",
        "    text = re.sub(r\"rightwaystan\", \"Richard Tan\", text)\n",
        "    text = re.sub(r\"CindyNoonan\", \"Cindy Noonan\", text)\n",
        "    text = re.sub(r\"RT_America\", \"RT America\", text)\n",
        "    text = re.sub(r\"narendramodi\", \"Narendra Modi\", text)\n",
        "    text = re.sub(r\"BakeOffFriends\", \"Bake Off Friends\", text)\n",
        "    text = re.sub(r\"TeamHendrick\", \"Hendrick Motorsports\", text)\n",
        "    text = re.sub(r\"alexbelloli\", \"Alex Belloli\", text)\n",
        "    text = re.sub(r\"itsjustinstuart\", \"Justin Stuart\", text)\n",
        "    text = re.sub(r\"gunsense\", \"gun sense\", text)\n",
        "    text = re.sub(r\"DebateQuestionsWeWantToHear\", \"debate questions we want to hear\", text)\n",
        "    text = re.sub(r\"RoyalCarribean\", \"Royal Carribean\", text)\n",
        "    text = re.sub(r\"samanthaturne19\", \"Samantha Turner\", text)\n",
        "    text = re.sub(r\"JonVoyage\", \"Jon Stewart\", text)\n",
        "    text = re.sub(r\"renew911health\", \"renew 911 health\", text)\n",
        "    text = re.sub(r\"SuryaRay\", \"Surya Ray\", text)\n",
        "    text = re.sub(r\"pattonoswalt\", \"Patton Oswalt\", text)\n",
        "    text = re.sub(r\"minhazmerchant\", \"Minhaz Merchant\", text)\n",
        "    text = re.sub(r\"TLVFaces\", \"Israel Diaspora Coalition\", text)\n",
        "    text = re.sub(r\"pmarca\", \"Marc Andreessen\", text)\n",
        "    text = re.sub(r\"pdx911\", \"Portland Police\", text)\n",
        "    text = re.sub(r\"jamaicaplain\", \"Jamaica Plain\", text)\n",
        "    text = re.sub(r\"Japton\", \"Arkansas\", text)\n",
        "    text = re.sub(r\"RouteComplex\", \"Route Complex\", text)\n",
        "    text = re.sub(r\"INSubcontinent\", \"Indian Subcontinent\", text)\n",
        "    text = re.sub(r\"NJTurnpike\", \"New Jersey Turnpike\", text)\n",
        "    text = re.sub(r\"Politifiact\", \"PolitiFact\", text)\n",
        "    text = re.sub(r\"Hiroshima70\", \"Hiroshima\", text)\n",
        "    text = re.sub(r\"GMMBC\", \"Greater Mt Moriah Baptist Church\", text)\n",
        "    text = re.sub(r\"versethe\", \"verse the\", text)\n",
        "    text = re.sub(r\"TubeStrike\", \"Tube Strike\", text)\n",
        "    text = re.sub(r\"MissionHills\", \"Mission Hills\", text)\n",
        "    text = re.sub(r\"ProtectDenaliWolves\", \"Protect Denali Wolves\", text)\n",
        "    text = re.sub(r\"NANKANA\", \"Nankana\", text)\n",
        "    text = re.sub(r\"SAHIB\", \"Sahib\", text)\n",
        "    text = re.sub(r\"PAKPATTAN\", \"Pakpattan\", text)\n",
        "    text = re.sub(r\"Newz_Sacramento\", \"News Sacramento\", text)\n",
        "    text = re.sub(r\"gofundme\", \"go fund me\", text)\n",
        "    text = re.sub(r\"pmharper\", \"Stephen Harper\", text)\n",
        "    text = re.sub(r\"IvanBerroa\", \"Ivan Berroa\", text)\n",
        "    text = re.sub(r\"LosDelSonido\", \"Los Del Sonido\", text)\n",
        "    text = re.sub(r\"bancodeseries\", \"banco de series\", text)\n",
        "    text = re.sub(r\"timkaine\", \"Tim Kaine\", text)\n",
        "    text = re.sub(r\"IdentityTheft\", \"Identity Theft\", text)\n",
        "    text = re.sub(r\"AllLivesMatter\", \"All Lives Matter\", text)\n",
        "    text = re.sub(r\"mishacollins\", \"Misha Collins\", text)\n",
        "    text = re.sub(r\"BillNeelyNBC\", \"Bill Neely\", text)\n",
        "    text = re.sub(r\"BeClearOnCancer\", \"be clear on cancer\", text)\n",
        "    text = re.sub(r\"Kowing\", \"Knowing\", text)\n",
        "    text = re.sub(r\"ScreamQueens\", \"Scream Queens\", text)\n",
        "    text = re.sub(r\"AskCharley\", \"Ask Charley\", text)\n",
        "    text = re.sub(r\"BlizzHeroes\", \"Heroes of the Storm\", text)\n",
        "    text = re.sub(r\"BradleyBrad47\", \"Bradley Brad\", text)\n",
        "    text = re.sub(r\"HannaPH\", \"Typhoon Hanna\", text)\n",
        "    text = re.sub(r\"meinlcymbals\", \"MEINL Cymbals\", text)\n",
        "    text = re.sub(r\"Ptbo\", \"Peterborough\", text)\n",
        "    text = re.sub(r\"cnnbrk\", \"CNN Breaking News\", text)\n",
        "    text = re.sub(r\"IndianNews\", \"Indian News\", text)\n",
        "    text = re.sub(r\"savebees\", \"save bees\", text)\n",
        "    text = re.sub(r\"GreenHarvard\", \"Green Harvard\", text)\n",
        "    text = re.sub(r\"StandwithPP\", \"Stand with planned parenthood\", text)\n",
        "    text = re.sub(r\"hermancranston\", \"Herman Cranston\", text)\n",
        "    text = re.sub(r\"WMUR9\", \"WMUR-TV\", text)\n",
        "    text = re.sub(r\"RockBottomRadFM\", \"Rock Bottom Radio\", text)\n",
        "    text = re.sub(r\"ameenshaikh3\", \"Ameen Shaikh\", text)\n",
        "    text = re.sub(r\"ProSyn\", \"Project Syndicate\", text)\n",
        "    text = re.sub(r\"Daesh\", \"ISIS\", text)\n",
        "    text = re.sub(r\"s2g\", \"swear to god\", text)\n",
        "    text = re.sub(r\"listenlive\", \"listen live\", text)\n",
        "    text = re.sub(r\"CDCgov\", \"Centers for Disease Control and Prevention\", text)\n",
        "    text = re.sub(r\"FoxNew\", \"Fox News\", text)\n",
        "    text = re.sub(r\"CBSBigBrother\", \"Big Brother\", text)\n",
        "    text = re.sub(r\"JulieDiCaro\", \"Julie DiCaro\", text)\n",
        "    text = re.sub(r\"theadvocatemag\", \"The Advocate Magazine\", text)\n",
        "    text = re.sub(r\"RohnertParkDPS\", \"Rohnert Park Police Department\", text)\n",
        "    text = re.sub(r\"THISIZBWRIGHT\", \"Bonnie Wright\", text)\n",
        "    text = re.sub(r\"Popularmmos\", \"Popular MMOs\", text)\n",
        "    text = re.sub(r\"WildHorses\", \"Wild Horses\", text)\n",
        "    text = re.sub(r\"FantasticFour\", \"Fantastic Four\", text)\n",
        "    text = re.sub(r\"HORNDALE\", \"Horndale\", text)\n",
        "    text = re.sub(r\"PINER\", \"Piner\", text)\n",
        "    text = re.sub(r\"BathAndNorthEastSomerset\", \"Bath and North East Somerset\", text)\n",
        "    text = re.sub(r\"thatswhatfriendsarefor\", \"that is what friends are for\", text)\n",
        "    text = re.sub(r\"residualincome\", \"residual income\", text)\n",
        "    text = re.sub(r\"YahooNewsDigest\", \"Yahoo News Digest\", text)\n",
        "    text = re.sub(r\"MalaysiaAirlines\", \"Malaysia Airlines\", text)\n",
        "    text = re.sub(r\"AmazonDeals\", \"Amazon Deals\", text)\n",
        "    text = re.sub(r\"MissCharleyWebb\", \"Charley Webb\", text)\n",
        "    text = re.sub(r\"shoalstraffic\", \"shoals traffic\", text)\n",
        "    text = re.sub(r\"GeorgeFoster72\", \"George Foster\", text)\n",
        "    text = re.sub(r\"pop2015\", \"pop 2015\", text)\n",
        "    text = re.sub(r\"_PokemonCards_\", \"Pokemon Cards\", text)\n",
        "    text = re.sub(r\"DianneG\", \"Dianne Gallagher\", text)\n",
        "    text = re.sub(r\"KashmirConflict\", \"Kashmir Conflict\", text)\n",
        "    text = re.sub(r\"BritishBakeOff\", \"British Bake Off\", text)\n",
        "    text = re.sub(r\"FreeKashmir\", \"Free Kashmir\", text)\n",
        "    text = re.sub(r\"mattmosley\", \"Matt Mosley\", text)\n",
        "    text = re.sub(r\"BishopFred\", \"Bishop Fred\", text)\n",
        "    text = re.sub(r\"EndConflict\", \"End Conflict\", text)\n",
        "    text = re.sub(r\"EndOccupation\", \"End Occupation\", text)\n",
        "    text = re.sub(r\"UNHEALED\", \"unhealed\", text)\n",
        "    text = re.sub(r\"CharlesDagnall\", \"Charles Dagnall\", text)\n",
        "    text = re.sub(r\"Latestnews\", \"Latest news\", text)\n",
        "    text = re.sub(r\"KindleCountdown\", \"Kindle Countdown\", text)\n",
        "    text = re.sub(r\"NoMoreHandouts\", \"No More Handouts\", text)\n",
        "    text = re.sub(r\"datingtips\", \"dating tips\", text)\n",
        "    text = re.sub(r\"charlesadler\", \"Charles Adler\", text)\n",
        "    text = re.sub(r\"twia\", \"Texas Windstorm Insurance Association\", text)\n",
        "    text = re.sub(r\"txlege\", \"Texas Legislature\", text)\n",
        "    text = re.sub(r\"WindstormInsurer\", \"Windstorm Insurer\", text)\n",
        "    text = re.sub(r\"Newss\", \"News\", text)\n",
        "    text = re.sub(r\"hempoil\", \"hemp oil\", text)\n",
        "    text = re.sub(r\"CommoditiesAre\", \"Commodities are\", text)\n",
        "    text = re.sub(r\"tubestrike\", \"tube strike\", text)\n",
        "    text = re.sub(r\"JoeNBC\", \"Joe Scarborough\", text)\n",
        "    text = re.sub(r\"LiteraryCakes\", \"Literary Cakes\", text)\n",
        "    text = re.sub(r\"TI5\", \"The International 5\", text)\n",
        "    text = re.sub(r\"thehill\", \"the hill\", text)\n",
        "    text = re.sub(r\"3others\", \"3 others\", text)\n",
        "    text = re.sub(r\"stighefootball\", \"Sam Tighe\", text)\n",
        "    text = re.sub(r\"whatstheimportantvideo\", \"what is the important video\", text)\n",
        "    text = re.sub(r\"ClaudioMeloni\", \"Claudio Meloni\", text)\n",
        "    text = re.sub(r\"DukeSkywalker\", \"Duke Skywalker\", text)\n",
        "    text = re.sub(r\"carsonmwr\", \"Fort Carson\", text)\n",
        "    text = re.sub(r\"offdishduty\", \"off dish duty\", text)\n",
        "    text = re.sub(r\"andword\", \"and word\", text)\n",
        "    text = re.sub(r\"rhodeisland\", \"Rhode Island\", text)\n",
        "    text = re.sub(r\"easternoregon\", \"Eastern Oregon\", text)\n",
        "    text = re.sub(r\"WAwildfire\", \"Washington Wildfire\", text)\n",
        "    text = re.sub(r\"fingerrockfire\", \"Finger Rock Fire\", text)\n",
        "    text = re.sub(r\"57am\", \"57 am\", text)\n",
        "    text = re.sub(r\"fingerrockfire\", \"Finger Rock Fire\", text)\n",
        "    text = re.sub(r\"JacobHoggard\", \"Jacob Hoggard\", text)\n",
        "    text = re.sub(r\"newnewnew\", \"new new new\", text)\n",
        "    text = re.sub(r\"under50\", \"under 50\", text)\n",
        "    text = re.sub(r\"getitbeforeitsgone\", \"get it before it is gone\", text)\n",
        "    text = re.sub(r\"freshoutofthebox\", \"fresh out of the box\", text)\n",
        "    text = re.sub(r\"amwriting\", \"am writing\", text)\n",
        "    text = re.sub(r\"Bokoharm\", \"Boko Haram\", text)\n",
        "    text = re.sub(r\"Nowlike\", \"Now like\", text)\n",
        "    text = re.sub(r\"seasonfrom\", \"season from\", text)\n",
        "    text = re.sub(r\"epicente\", \"epicenter\", text)\n",
        "    text = re.sub(r\"epicenterr\", \"epicenter\", text)\n",
        "    text = re.sub(r\"sicklife\", \"sick life\", text)\n",
        "    text = re.sub(r\"yycweather\", \"Calgary Weather\", text)\n",
        "    text = re.sub(r\"calgarysun\", \"Calgary Sun\", text)\n",
        "    text = re.sub(r\"approachng\", \"approaching\", text)\n",
        "    text = re.sub(r\"evng\", \"evening\", text)\n",
        "    text = re.sub(r\"Sumthng\", \"something\", text)\n",
        "    text = re.sub(r\"EllenPompeo\", \"Ellen Pompeo\", text)\n",
        "    text = re.sub(r\"shondarhimes\", \"Shonda Rhimes\", text)\n",
        "    text = re.sub(r\"ABCNetwork\", \"ABC Network\", text)\n",
        "    text = re.sub(r\"SushmaSwaraj\", \"Sushma Swaraj\", text)\n",
        "    text = re.sub(r\"pray4japan\", \"Pray for Japan\", text)\n",
        "    text = re.sub(r\"hope4japan\", \"Hope for Japan\", text)\n",
        "    text = re.sub(r\"Illusionimagess\", \"Illusion images\", text)\n",
        "    text = re.sub(r\"SummerUnderTheStars\", \"Summer Under The Stars\", text)\n",
        "    text = re.sub(r\"ShallWeDance\", \"Shall We Dance\", text)\n",
        "    text = re.sub(r\"TCMParty\", \"TCM Party\", text)\n",
        "    text = re.sub(r\"marijuananews\", \"marijuana news\", text)\n",
        "    text = re.sub(r\"onbeingwithKristaTippett\", \"on being with Krista Tippett\", text)\n",
        "    text = re.sub(r\"Beingtexts\", \"Being texts\", text)\n",
        "    text = re.sub(r\"newauthors\", \"new authors\", text)\n",
        "    text = re.sub(r\"remedyyyy\", \"remedy\", text)\n",
        "    text = re.sub(r\"44PM\", \"44 PM\", text)\n",
        "    text = re.sub(r\"HeadlinesApp\", \"Headlines App\", text)\n",
        "    text = re.sub(r\"40PM\", \"40 PM\", text)\n",
        "    text = re.sub(r\"myswc\", \"Severe Weather Center\", text)\n",
        "    text = re.sub(r\"ithats\", \"that is\", text)\n",
        "    text = re.sub(r\"icouldsitinthismomentforever\", \"I could sit in this moment forever\", text)\n",
        "    text = re.sub(r\"FatLoss\", \"Fat Loss\", text)\n",
        "    text = re.sub(r\"02PM\", \"02 PM\", text)\n",
        "    text = re.sub(r\"MetroFmTalk\", \"Metro Fm Talk\", text)\n",
        "    text = re.sub(r\"Bstrd\", \"bastard\", text)\n",
        "    text = re.sub(r\"bldy\", \"bloody\", text)\n",
        "    text = re.sub(r\"MetrofmTalk\", \"Metro Fm Talk\", text)\n",
        "    text = re.sub(r\"terrorismturn\", \"terrorism turn\", text)\n",
        "    text = re.sub(r\"BBCNewsAsia\", \"BBC News Asia\", text)\n",
        "    text = re.sub(r\"BehindTheScenes\", \"Behind The Scenes\", text)\n",
        "    text = re.sub(r\"GeorgeTakei\", \"George Takei\", text)\n",
        "    text = re.sub(r\"WomensWeeklyMag\", \"Womens Weekly Magazine\", text)\n",
        "    text = re.sub(r\"SurvivorsGuidetoEarth\", \"Survivors Guide to Earth\", text)\n",
        "    text = re.sub(r\"incubusband\", \"incubus band\", text)\n",
        "    text = re.sub(r\"Babypicturethis\", \"Baby picture this\", text)\n",
        "    text = re.sub(r\"BombEffects\", \"Bomb Effects\", text)\n",
        "    text = re.sub(r\"win10\", \"Windows 10\", text)\n",
        "    text = re.sub(r\"idkidk\", \"I do not know I do not know\", text)\n",
        "    text = re.sub(r\"TheWalkingDead\", \"The Walking Dead\", text)\n",
        "    text = re.sub(r\"amyschumer\", \"Amy Schumer\", text)\n",
        "    text = re.sub(r\"crewlist\", \"crew list\", text)\n",
        "    text = re.sub(r\"Erdogans\", \"Erdogan\", text)\n",
        "    text = re.sub(r\"BBCLive\", \"BBC Live\", text)\n",
        "    text = re.sub(r\"TonyAbbottMHR\", \"Tony Abbott\", text)\n",
        "    text = re.sub(r\"paulmyerscough\", \"Paul Myerscough\", text)\n",
        "    text = re.sub(r\"georgegallagher\", \"George Gallagher\", text)\n",
        "    text = re.sub(r\"JimmieJohnson\", \"Jimmie Johnson\", text)\n",
        "    text = re.sub(r\"pctool\", \"pc tool\", text)\n",
        "    text = re.sub(r\"DoingHashtagsRight\", \"Doing Hashtags Right\", text)\n",
        "    text = re.sub(r\"ThrowbackThursday\", \"Throwback Thursday\", text)\n",
        "    text = re.sub(r\"SnowBackSunday\", \"Snowback Sunday\", text)\n",
        "    text = re.sub(r\"LakeEffect\", \"Lake Effect\", text)\n",
        "    text = re.sub(r\"RTphotographyUK\", \"Richard Thomas Photography UK\", text)\n",
        "    text = re.sub(r\"BigBang_CBS\", \"Big Bang CBS\", text)\n",
        "    text = re.sub(r\"writerslife\", \"writers life\", text)\n",
        "    text = re.sub(r\"NaturalBirth\", \"Natural Birth\", text)\n",
        "    text = re.sub(r\"UnusualWords\", \"Unusual Words\", text)\n",
        "    text = re.sub(r\"wizkhalifa\", \"Wiz Khalifa\", text)\n",
        "    text = re.sub(r\"acreativedc\", \"a creative DC\", text)\n",
        "    text = re.sub(r\"vscodc\", \"vsco DC\", text)\n",
        "    text = re.sub(r\"VSCOcam\", \"vsco camera\", text)\n",
        "    text = re.sub(r\"TheBEACHDC\", \"The beach DC\", text)\n",
        "    text = re.sub(r\"buildingmuseum\", \"building museum\", text)\n",
        "    text = re.sub(r\"WorldOil\", \"World Oil\", text)\n",
        "    text = re.sub(r\"redwedding\", \"red wedding\", text)\n",
        "    text = re.sub(r\"AmazingRaceCanada\", \"Amazing Race Canada\", text)\n",
        "    text = re.sub(r\"WakeUpAmerica\", \"Wake Up America\", text)\n",
        "    text = re.sub(r\"\\\\Allahuakbar\\\\\", \"Allahu Akbar\", text)\n",
        "    text = re.sub(r\"bleased\", \"blessed\", text)\n",
        "    text = re.sub(r\"nigeriantribune\", \"Nigerian Tribune\", text)\n",
        "    text = re.sub(r\"HIDEO_KOJIMA_EN\", \"Hideo Kojima\", text)\n",
        "    text = re.sub(r\"FusionFestival\", \"Fusion Festival\", text)\n",
        "    text = re.sub(r\"50Mixed\", \"50 Mixed\", text)\n",
        "    text = re.sub(r\"NoAgenda\", \"No Agenda\", text)\n",
        "    text = re.sub(r\"WhiteGenocide\", \"White Genocide\", text)\n",
        "    text = re.sub(r\"dirtylying\", \"dirty lying\", text)\n",
        "    text = re.sub(r\"SyrianRefugees\", \"Syrian Refugees\", text)\n",
        "    text = re.sub(r\"changetheworld\", \"change the world\", text)\n",
        "    text = re.sub(r\"Ebolacase\", \"Ebola case\", text)\n",
        "    text = re.sub(r\"mcgtech\", \"mcg technologies\", text)\n",
        "    text = re.sub(r\"withweapons\", \"with weapons\", text)\n",
        "    text = re.sub(r\"advancedwarfare\", \"advanced warfare\", text)\n",
        "    text = re.sub(r\"letsFootball\", \"let us Football\", text)\n",
        "    text = re.sub(r\"LateNiteMix\", \"late night mix\", text)\n",
        "    text = re.sub(r\"PhilCollinsFeed\", \"Phil Collins\", text)\n",
        "    text = re.sub(r\"RudyHavenstein\", \"Rudy Havenstein\", text)\n",
        "    text = re.sub(r\"22PM\", \"22 PM\", text)\n",
        "    text = re.sub(r\"54am\", \"54 AM\", text)\n",
        "    text = re.sub(r\"38am\", \"38 AM\", text)\n",
        "    text = re.sub(r\"OldFolkExplainStuff\", \"Old Folk Explain Stuff\", text)\n",
        "    text = re.sub(r\"BlacklivesMatter\", \"Black Lives Matter\", text)\n",
        "    text = re.sub(r\"InsaneLimits\", \"Insane Limits\", text)\n",
        "    text = re.sub(r\"youcantsitwithus\", \"you cannot sit with us\", text)\n",
        "    text = re.sub(r\"2k15\", \"2015\", text)\n",
        "    text = re.sub(r\"TheIran\", \"Iran\", text)\n",
        "    text = re.sub(r\"JimmyFallon\", \"Jimmy Fallon\", text)\n",
        "    text = re.sub(r\"AlbertBrooks\", \"Albert Brooks\", text)\n",
        "    text = re.sub(r\"defense_news\", \"defense news\", text)\n",
        "    text = re.sub(r\"nuclearrcSA\", \"Nuclear Risk Control Self Assessment\", text)\n",
        "    text = re.sub(r\"Auspol\", \"Australia Politics\", text)\n",
        "    text = re.sub(r\"NuclearPower\", \"Nuclear Power\", text)\n",
        "    text = re.sub(r\"WhiteTerrorism\", \"White Terrorism\", text)\n",
        "    text = re.sub(r\"truthfrequencyradio\", \"Truth Frequency Radio\", text)\n",
        "    text = re.sub(r\"ErasureIsNotEquality\", \"Erasure is not equality\", text)\n",
        "    text = re.sub(r\"ProBonoNews\", \"Pro Bono News\", text)\n",
        "    text = re.sub(r\"JakartaPost\", \"Jakarta Post\", text)\n",
        "    text = re.sub(r\"toopainful\", \"too painful\", text)\n",
        "    text = re.sub(r\"melindahaunton\", \"Melinda Haunton\", text)\n",
        "    text = re.sub(r\"NoNukes\", \"No Nukes\", text)\n",
        "    text = re.sub(r\"curryspcworld\", \"Currys PC World\", text)\n",
        "    text = re.sub(r\"ineedcake\", \"I need cake\", text)\n",
        "    text = re.sub(r\"blackforestgateau\", \"black forest gateau\", text)\n",
        "    text = re.sub(r\"BBCOne\", \"BBC One\", text)\n",
        "    text = re.sub(r\"AlexxPage\", \"Alex Page\", text)\n",
        "    text = re.sub(r\"jonathanserrie\", \"Jonathan Serrie\", text)\n",
        "    text = re.sub(r\"SocialJerkBlog\", \"Social Jerk Blog\", text)\n",
        "    text = re.sub(r\"ChelseaVPeretti\", \"Chelsea Peretti\", text)\n",
        "    text = re.sub(r\"irongiant\", \"iron giant\", text)\n",
        "    text = re.sub(r\"RonFunches\", \"Ron Funches\", text)\n",
        "    text = re.sub(r\"TimCook\", \"Tim Cook\", text)\n",
        "    text = re.sub(r\"sebastianstanisaliveandwell\", \"Sebastian Stan is alive and well\", text)\n",
        "    text = re.sub(r\"Madsummer\", \"Mad summer\", text)\n",
        "    text = re.sub(r\"NowYouKnow\", \"Now you know\", text)\n",
        "    text = re.sub(r\"concertphotography\", \"concert photography\", text)\n",
        "    text = re.sub(r\"TomLandry\", \"Tom Landry\", text)\n",
        "    text = re.sub(r\"showgirldayoff\", \"show girl day off\", text)\n",
        "    text = re.sub(r\"Yougslavia\", \"Yugoslavia\", text)\n",
        "    text = re.sub(r\"QuantumDataInformatics\", \"Quantum Data Informatics\", text)\n",
        "    text = re.sub(r\"FromTheDesk\", \"From The Desk\", text)\n",
        "    text = re.sub(r\"TheaterTrial\", \"Theater Trial\", text)\n",
        "    text = re.sub(r\"CatoInstitute\", \"Cato Institute\", text)\n",
        "    text = re.sub(r\"EmekaGift\", \"Emeka Gift\", text)\n",
        "    text = re.sub(r\"LetsBe_Rational\", \"Let us be rational\", text)\n",
        "    text = re.sub(r\"Cynicalreality\", \"Cynical reality\", text)\n",
        "    text = re.sub(r\"FredOlsenCruise\", \"Fred Olsen Cruise\", text)\n",
        "    text = re.sub(r\"NotSorry\", \"not sorry\", text)\n",
        "    text = re.sub(r\"UseYourWords\", \"use your words\", text)\n",
        "    text = re.sub(r\"WordoftheDay\", \"word of the day\", text)\n",
        "    text = re.sub(r\"Dictionarycom\", \"Dictionary.com\", text)\n",
        "    text = re.sub(r\"TheBrooklynLife\", \"The Brooklyn Life\", text)\n",
        "    text = re.sub(r\"jokethey\", \"joke they\", text)\n",
        "    text = re.sub(r\"nflweek1picks\", \"NFL week 1 picks\", text)\n",
        "    text = re.sub(r\"uiseful\", \"useful\", text)\n",
        "    text = re.sub(r\"JusticeDotOrg\", \"The American Association for Justice\", text)\n",
        "    text = re.sub(r\"autoaccidents\", \"auto accidents\", text)\n",
        "    text = re.sub(r\"SteveGursten\", \"Steve Gursten\", text)\n",
        "    text = re.sub(r\"MichiganAutoLaw\", \"Michigan Auto Law\", text)\n",
        "    text = re.sub(r\"birdgang\", \"bird gang\", text)\n",
        "    text = re.sub(r\"nflnetwork\", \"NFL Network\", text)\n",
        "    text = re.sub(r\"NYDNSports\", \"NY Daily News Sports\", text)\n",
        "    text = re.sub(r\"RVacchianoNYDN\", \"Ralph Vacchiano NY Daily News\", text)\n",
        "    text = re.sub(r\"EdmontonEsks\", \"Edmonton Eskimos\", text)\n",
        "    text = re.sub(r\"david_brelsford\", \"David Brelsford\", text)\n",
        "    text = re.sub(r\"TOI_India\", \"The Times of India\", text)\n",
        "    text = re.sub(r\"hegot\", \"he got\", text)\n",
        "    text = re.sub(r\"SkinsOn9\", \"Skins on 9\", text)\n",
        "    text = re.sub(r\"sothathappened\", \"so that happened\", text)\n",
        "    text = re.sub(r\"LCOutOfDoors\", \"LC Out Of Doors\", text)\n",
        "    text = re.sub(r\"NationFirst\", \"Nation First\", text)\n",
        "    text = re.sub(r\"IndiaToday\", \"India Today\", text)\n",
        "    text = re.sub(r\"HLPS\", \"helps\", text)\n",
        "    text = re.sub(r\"HOSTAGESTHROSW\", \"hostages throw\", text)\n",
        "    text = re.sub(r\"SNCTIONS\", \"sanctions\", text)\n",
        "    text = re.sub(r\"BidTime\", \"Bid Time\", text)\n",
        "    text = re.sub(r\"crunchysensible\", \"crunchy sensible\", text)\n",
        "    text = re.sub(r\"RandomActsOfRomance\", \"Random acts of romance\", text)\n",
        "    text = re.sub(r\"MomentsAtHill\", \"Moments at hill\", text)\n",
        "    text = re.sub(r\"eatshit\", \"eat shit\", text)\n",
        "    text = re.sub(r\"liveleakfun\", \"live leak fun\", text)\n",
        "    text = re.sub(r\"SahelNews\", \"Sahel News\", text)\n",
        "    text = re.sub(r\"abc7newsbayarea\", \"ABC 7 News Bay Area\", text)\n",
        "    text = re.sub(r\"facilitiesmanagement\", \"facilities management\", text)\n",
        "    text = re.sub(r\"facilitydude\", \"facility dude\", text)\n",
        "    text = re.sub(r\"CampLogistics\", \"Camp logistics\", text)\n",
        "    text = re.sub(r\"alaskapublic\", \"Alaska public\", text)\n",
        "    text = re.sub(r\"MarketResearch\", \"Market Research\", text)\n",
        "    text = re.sub(r\"AccuracyEsports\", \"Accuracy Esports\", text)\n",
        "    text = re.sub(r\"TheBodyShopAust\", \"The Body Shop Australia\", text)\n",
        "    text = re.sub(r\"yychail\", \"Calgary hail\", text)\n",
        "    text = re.sub(r\"yyctraffic\", \"Calgary traffic\", text)\n",
        "    text = re.sub(r\"eliotschool\", \"eliot school\", text)\n",
        "    text = re.sub(r\"TheBrokenCity\", \"The Broken City\", text)\n",
        "    text = re.sub(r\"OldsFireDept\", \"Olds Fire Department\", text)\n",
        "    text = re.sub(r\"RiverComplex\", \"River Complex\", text)\n",
        "    text = re.sub(r\"fieldworksmells\", \"field work smells\", text)\n",
        "    text = re.sub(r\"IranElection\", \"Iran Election\", text)\n",
        "    text = re.sub(r\"glowng\", \"glowing\", text)\n",
        "    text = re.sub(r\"kindlng\", \"kindling\", text)\n",
        "    text = re.sub(r\"riggd\", \"rigged\", text)\n",
        "    text = re.sub(r\"slownewsday\", \"slow news day\", text)\n",
        "    text = re.sub(r\"MyanmarFlood\", \"Myanmar Flood\", text)\n",
        "    text = re.sub(r\"abc7chicago\", \"ABC 7 Chicago\", text)\n",
        "    text = re.sub(r\"copolitics\", \"Colorado Politics\", text)\n",
        "    text = re.sub(r\"AdilGhumro\", \"Adil Ghumro\", text)\n",
        "    text = re.sub(r\"netbots\", \"net bots\", text)\n",
        "    text = re.sub(r\"byebyeroad\", \"bye bye road\", text)\n",
        "    text = re.sub(r\"massiveflooding\", \"massive flooding\", text)\n",
        "    text = re.sub(r\"EndofUS\", \"End of United States\", text)\n",
        "    text = re.sub(r\"35PM\", \"35 PM\", text)\n",
        "    text = re.sub(r\"greektheatrela\", \"Greek Theatre Los Angeles\", text)\n",
        "    text = re.sub(r\"76mins\", \"76 minutes\", text)\n",
        "    text = re.sub(r\"publicsafetyfirst\", \"public safety first\", text)\n",
        "    text = re.sub(r\"livesmatter\", \"lives matter\", text)\n",
        "    text = re.sub(r\"myhometown\", \"my hometown\", text)\n",
        "    text = re.sub(r\"tankerfire\", \"tanker fire\", text)\n",
        "    text = re.sub(r\"MEMORIALDAY\", \"memorial day\", text)\n",
        "    text = re.sub(r\"MEMORIAL_DAY\", \"memorial day\", text)\n",
        "    text = re.sub(r\"instaxbooty\", \"instagram booty\", text)\n",
        "    text = re.sub(r\"Jerusalem_Post\", \"Jerusalem Post\", text)\n",
        "    text = re.sub(r\"WayneRooney_INA\", \"Wayne Rooney\", text)\n",
        "    text = re.sub(r\"VirtualReality\", \"Virtual Reality\", text)\n",
        "    text = re.sub(r\"OculusRift\", \"Oculus Rift\", text)\n",
        "    text = re.sub(r\"OwenJones84\", \"Owen Jones\", text)\n",
        "    text = re.sub(r\"jeremycorbyn\", \"Jeremy Corbyn\", text)\n",
        "    text = re.sub(r\"paulrogers002\", \"Paul Rogers\", text)\n",
        "    text = re.sub(r\"mortalkombatx\", \"Mortal Kombat X\", text)\n",
        "    text = re.sub(r\"mortalkombat\", \"Mortal Kombat\", text)\n",
        "    text = re.sub(r\"FilipeCoelho92\", \"Filipe Coelho\", text)\n",
        "    text = re.sub(r\"OnlyQuakeNews\", \"Only Quake News\", text)\n",
        "    text = re.sub(r\"kostumes\", \"costumes\", text)\n",
        "    text = re.sub(r\"YEEESSSS\", \"yes\", text)\n",
        "    text = re.sub(r\"ToshikazuKatayama\", \"Toshikazu Katayama\", text)\n",
        "    text = re.sub(r\"IntlDevelopment\", \"Intl Development\", text)\n",
        "    text = re.sub(r\"ExtremeWeather\", \"Extreme Weather\", text)\n",
        "    text = re.sub(r\"WereNotGruberVoters\", \"We are not gruber voters\", text)\n",
        "    text = re.sub(r\"NewsThousands\", \"News Thousands\", text)\n",
        "    text = re.sub(r\"EdmundAdamus\", \"Edmund Adamus\", text)\n",
        "    text = re.sub(r\"EyewitnessWV\", \"Eye witness WV\", text)\n",
        "    text = re.sub(r\"PhiladelphiaMuseu\", \"Philadelphia Museum\", text)\n",
        "    text = re.sub(r\"DublinComicCon\", \"Dublin Comic Con\", text)\n",
        "    text = re.sub(r\"NicholasBrendon\", \"Nicholas Brendon\", text)\n",
        "    text = re.sub(r\"Alltheway80s\", \"All the way 80s\", text)\n",
        "    text = re.sub(r\"FromTheField\", \"From the field\", text)\n",
        "    text = re.sub(r\"NorthIowa\", \"North Iowa\", text)\n",
        "    text = re.sub(r\"WillowFire\", \"Willow Fire\", text)\n",
        "    text = re.sub(r\"MadRiverComplex\", \"Mad River Complex\", text)\n",
        "    text = re.sub(r\"feelingmanly\", \"feeling manly\", text)\n",
        "    text = re.sub(r\"stillnotoverit\", \"still not over it\", text)\n",
        "    text = re.sub(r\"FortitudeValley\", \"Fortitude Valley\", text)\n",
        "    text = re.sub(r\"CoastpowerlineTramTr\", \"Coast powerline\", text)\n",
        "    text = re.sub(r\"ServicesGold\", \"Services Gold\", text)\n",
        "    text = re.sub(r\"NewsbrokenEmergency\", \"News broken emergency\", text)\n",
        "    text = re.sub(r\"Evaucation\", \"evacuation\", text)\n",
        "    text = re.sub(r\"leaveevacuateexitbe\", \"leave evacuate exit be\", text)\n",
        "    text = re.sub(r\"P_EOPLE\", \"PEOPLE\", text)\n",
        "    text = re.sub(r\"Tubestrike\", \"tube strike\", text)\n",
        "    text = re.sub(r\"CLASS_SICK\", \"CLASS SICK\", text)\n",
        "    text = re.sub(r\"localplumber\", \"local plumber\", text)\n",
        "    text = re.sub(r\"awesomejobsiri\", \"awesome job siri\", text)\n",
        "    text = re.sub(r\"PayForItHow\", \"Pay for it how\", text)\n",
        "    text = re.sub(r\"ThisIsAfrica\", \"This is Africa\", text)\n",
        "    text = re.sub(r\"crimeairnetwork\", \"crime air network\", text)\n",
        "    text = re.sub(r\"KimAcheson\", \"Kim Acheson\", text)\n",
        "    text = re.sub(r\"cityofcalgary\", \"City of Calgary\", text)\n",
        "    text = re.sub(r\"prosyndicate\", \"pro syndicate\", text)\n",
        "    text = re.sub(r\"660NEWS\", \"660 NEWS\", text)\n",
        "    text = re.sub(r\"BusInsMagazine\", \"Business Insurance Magazine\", text)\n",
        "    text = re.sub(r\"wfocus\", \"focus\", text)\n",
        "    text = re.sub(r\"ShastaDam\", \"Shasta Dam\", text)\n",
        "    text = re.sub(r\"go2MarkFranco\", \"Mark Franco\", text)\n",
        "    text = re.sub(r\"StephGHinojosa\", \"Steph Hinojosa\", text)\n",
        "    text = re.sub(r\"Nashgrier\", \"Nash Grier\", text)\n",
        "    text = re.sub(r\"NashNewVideo\", \"Nash new video\", text)\n",
        "    text = re.sub(r\"IWouldntGetElectedBecause\", \"I would not get elected because\", text)\n",
        "    text = re.sub(r\"SHGames\", \"Sledgehammer Games\", text)\n",
        "    text = re.sub(r\"bedhair\", \"bed hair\", text)\n",
        "    text = re.sub(r\"JoelHeyman\", \"Joel Heyman\", text)\n",
        "    text = re.sub(r\"viaYouTube\", \"via YouTube\", text)\n",
        "\n",
        "\n",
        "    return text\n"
      ],
      "execution_count": 24,
      "outputs": []
    },
    {
      "cell_type": "code",
      "metadata": {
        "id": "9HOyG-duV1mC",
        "colab_type": "code",
        "colab": {}
      },
      "source": [
        "train['clean_text'] = train['text'].apply(lambda x: clean_text(x))\n"
      ],
      "execution_count": 25,
      "outputs": []
    },
    {
      "cell_type": "code",
      "metadata": {
        "id": "40RiI3KkXSHS",
        "colab_type": "code",
        "colab": {
          "base_uri": "https://localhost:8080/",
          "height": 123
        },
        "outputId": "781d5fff-45d2-402f-cc22-20ef8da0b624"
      },
      "source": [
        "train['clean_text'].head()"
      ],
      "execution_count": 26,
      "outputs": [
        {
          "output_type": "execute_result",
          "data": {
            "text/plain": [
              "0    our deeds are the reason of this earthquake ma...\n",
              "1                forest fire near la ronge sask canada\n",
              "2    all residents asked to shelter in place are be...\n",
              "3     people receive wildfires evacuation orders in...\n",
              "4    just got sent this photo from ruby alaska as s...\n",
              "Name: clean_text, dtype: object"
            ]
          },
          "metadata": {
            "tags": []
          },
          "execution_count": 26
        }
      ]
    },
    {
      "cell_type": "code",
      "metadata": {
        "id": "tR0eYgilXW6x",
        "colab_type": "code",
        "colab": {
          "base_uri": "https://localhost:8080/",
          "height": 125
        },
        "outputId": "68312b1d-ca40-46ab-eb42-92198815ee20"
      },
      "source": [
        "#Now we will do some spell checking \n",
        "!pip install pyspellchecker"
      ],
      "execution_count": 27,
      "outputs": [
        {
          "output_type": "stream",
          "text": [
            "Collecting pyspellchecker\n",
            "\u001b[?25l  Downloading https://files.pythonhosted.org/packages/04/d1/ec4e830e9f9c1fd788e1459dd09279fdf807bc7a475579fd7192450b879c/pyspellchecker-0.5.4-py2.py3-none-any.whl (1.9MB)\n",
            "\u001b[K     |████████████████████████████████| 1.9MB 4.5MB/s \n",
            "\u001b[?25hInstalling collected packages: pyspellchecker\n",
            "Successfully installed pyspellchecker-0.5.4\n"
          ],
          "name": "stdout"
        }
      ]
    },
    {
      "cell_type": "code",
      "metadata": {
        "id": "RX35vk5QYJIm",
        "colab_type": "code",
        "colab": {}
      },
      "source": [
        "from spellchecker import SpellChecker \n",
        "spell = SpellChecker()\n",
        "def correct_spellings (text):\n",
        "  corrected_text = []\n",
        "  for word in text.split():\n",
        "    corrected_text.append(spell.correction(word))\n",
        "  return \" \".join(corrected_text)"
      ],
      "execution_count": 28,
      "outputs": []
    },
    {
      "cell_type": "code",
      "metadata": {
        "id": "2NfPPcQmZsT0",
        "colab_type": "code",
        "colab": {
          "base_uri": "https://localhost:8080/",
          "height": 35
        },
        "outputId": "538d8df7-14c5-4cfa-ef79-6d677fa39077"
      },
      "source": [
        "correct_spellings('plese corect me')"
      ],
      "execution_count": 29,
      "outputs": [
        {
          "output_type": "execute_result",
          "data": {
            "application/vnd.google.colaboratory.intrinsic+json": {
              "type": "string"
            },
            "text/plain": [
              "'please correct me'"
            ]
          },
          "metadata": {
            "tags": []
          },
          "execution_count": 29
        }
      ]
    },
    {
      "cell_type": "code",
      "metadata": {
        "id": "HQ-nQAQRZ9ki",
        "colab_type": "code",
        "colab": {}
      },
      "source": [
        "# train['clean_text'] = train['clean_text'].apply(lambda x: correct_spellings(x))\n"
      ],
      "execution_count": 30,
      "outputs": []
    },
    {
      "cell_type": "code",
      "metadata": {
        "id": "LrKryeBhqjbe",
        "colab_type": "code",
        "colab": {
          "base_uri": "https://localhost:8080/",
          "height": 247
        },
        "outputId": "a8ca14ae-98cb-42bf-f963-1077160a5fb3"
      },
      "source": [
        "# There seems to be duplicates in the data that has different labels \n",
        "mislabled = train.groupby(['clean_text']).nunique().sort_values(by='target')\n",
        "mislabled = mislabled[mislabled['target']>1]['target']\n",
        "mislabled"
      ],
      "execution_count": 31,
      "outputs": [
        {
          "output_type": "execute_result",
          "data": {
            "text/plain": [
              "clean_text\n",
              "he came to a land which was engulfed in tribal war and turned it into a land of peace ie madinah prophetmuhammad islam    2\n",
              "hellfire we donûªt even want to think about it or mention it so letûªs not do anything that leads to it islam           2\n",
              "why are you deluged with low selfimage take the quiz                                                                      2\n",
              "black eye  a space battle occurred at star  involving  fleets totaling  ships with  destroyed                             2\n",
              "potus strategicpatience is a strategy for genocide refugees idp internally displaced people horror etc                    2\n",
              "                                                                                                                         ..\n",
              "the prophet peace be upon him said save yourself from hellfire even if it is by giving half a date in charity             2\n",
              "spot flood combo   curved cree led work light bar  offroad fog lamp  full reû                                            2\n",
              "world war ii book lightning joe an autobiography by general j lawton collins                                              2\n",
              "one direction is my pick for  fan army directioners                                                                       2\n",
              "ashes  australiaûªs collapse at trent bridge among worst in history england bundled out australia for                    2\n",
              "Name: target, Length: 74, dtype: int64"
            ]
          },
          "metadata": {
            "tags": []
          },
          "execution_count": 31
        }
      ]
    },
    {
      "cell_type": "code",
      "metadata": {
        "id": "i3iIowjpkZJM",
        "colab_type": "code",
        "colab": {}
      },
      "source": [
        "K = 2\n",
        "skf = StratifiedKFold(n_splits=K, random_state=SEED, shuffle=True)\n"
      ],
      "execution_count": 32,
      "outputs": []
    },
    {
      "cell_type": "code",
      "metadata": {
        "id": "5ZOGfUJbS9QR",
        "colab_type": "code",
        "colab": {}
      },
      "source": [
        "class ClassificationReport(Callback):\n",
        "    \n",
        "    def __init__(self, train_data=(), validation_data=()):\n",
        "        super(Callback, self).__init__()\n",
        "        \n",
        "        self.X_train, self.y_train = train_data\n",
        "        self.train_precision_scores = []\n",
        "        self.train_recall_scores = []\n",
        "        self.train_f1_scores = []\n",
        "        \n",
        "        self.X_val, self.y_val = validation_data\n",
        "        self.val_precision_scores = []\n",
        "        self.val_recall_scores = []\n",
        "        self.val_f1_scores = [] \n",
        "               \n",
        "    def on_epoch_end(self, epoch, logs={}):\n",
        "        train_predictions = np.round(self.model.predict(self.X_train, verbose=0))        \n",
        "        train_precision = precision_score(self.y_train, train_predictions, average='macro')\n",
        "        train_recall = recall_score(self.y_train, train_predictions, average='macro')\n",
        "        train_f1 = f1_score(self.y_train, train_predictions, average='macro')\n",
        "        self.train_precision_scores.append(train_precision)        \n",
        "        self.train_recall_scores.append(train_recall)\n",
        "        self.train_f1_scores.append(train_f1)\n",
        "        \n",
        "        val_predictions = np.round(self.model.predict(self.X_val, verbose=0))\n",
        "        val_precision = precision_score(self.y_val, val_predictions, average='macro')\n",
        "        val_recall = recall_score(self.y_val, val_predictions, average='macro')\n",
        "        val_f1 = f1_score(self.y_val, val_predictions, average='macro')\n",
        "        self.val_precision_scores.append(val_precision)        \n",
        "        self.val_recall_scores.append(val_recall)        \n",
        "        self.val_f1_scores.append(val_f1)\n",
        "        \n",
        "        print('\\nEpoch: {} - Training Precision: {:.6} - Training Recall: {:.6} - Training F1: {:.6}'.format(epoch + 1, train_precision, train_recall, train_f1))\n",
        "        print('Epoch: {} - Validation Precision: {:.6} - Validation Recall: {:.6} - Validation F1: {:.6}'.format(epoch + 1, val_precision, val_recall, val_f1))  "
      ],
      "execution_count": 33,
      "outputs": []
    },
    {
      "cell_type": "code",
      "metadata": {
        "id": "COG8uNPNTAi7",
        "colab_type": "code",
        "colab": {
          "base_uri": "https://localhost:8080/",
          "height": 87
        },
        "outputId": "b5b0ebb7-621e-450c-9bb0-74171c2bfff5"
      },
      "source": [
        "bert_layer = hub.KerasLayer('https://tfhub.dev/tensorflow/bert_en_uncased_L-12_H-768_A-12/1', trainable=True)"
      ],
      "execution_count": 34,
      "outputs": [
        {
          "output_type": "stream",
          "text": [
            "INFO:absl:Using /tmp/tfhub_modules to cache modules.\n",
            "INFO:absl:Downloading TF-Hub Module 'https://tfhub.dev/tensorflow/bert_en_uncased_L-12_H-768_A-12/1'.\n",
            "INFO:absl:Downloaded https://tfhub.dev/tensorflow/bert_en_uncased_L-12_H-768_A-12/1, Total size: 423.26MB\n",
            "INFO:absl:Downloaded TF-Hub Module 'https://tfhub.dev/tensorflow/bert_en_uncased_L-12_H-768_A-12/1'.\n"
          ],
          "name": "stderr"
        }
      ]
    },
    {
      "cell_type": "code",
      "metadata": {
        "id": "V4Lfh8toTN9T",
        "colab_type": "code",
        "colab": {}
      },
      "source": [
        "class DisasterDetector:\n",
        "    \n",
        "    def __init__(self, bert_layer, max_seq_length=128, lr=0.0001, epochs=15, batch_size=32):\n",
        "        \n",
        "        # BERT and Tokenization params\n",
        "        self.bert_layer = bert_layer\n",
        "        \n",
        "        self.max_seq_length = max_seq_length        \n",
        "        vocab_file = self.bert_layer.resolved_object.vocab_file.asset_path.numpy()\n",
        "        do_lower_case = self.bert_layer.resolved_object.do_lower_case.numpy()\n",
        "        self.tokenizer = tokenizer\n",
        "        \n",
        "        # Learning control params\n",
        "        self.lr = lr\n",
        "        self.epochs = epochs\n",
        "        self.batch_size = batch_size\n",
        "        \n",
        "        self.models = []\n",
        "        self.scores = {}\n",
        "        \n",
        "        \n",
        "    def encode(self, texts):\n",
        "                \n",
        "        all_tokens = []\n",
        "        all_masks = []\n",
        "        all_segments = []\n",
        "\n",
        "        for text in texts:\n",
        "            text = self.tokenizer.tokenize(text)\n",
        "            text = text[:self.max_seq_length - 2]\n",
        "            input_sequence = ['[CLS]'] + text + ['[SEP]']\n",
        "            pad_len = self.max_seq_length - len(input_sequence)\n",
        "\n",
        "            tokens = self.tokenizer.convert_tokens_to_ids(input_sequence)\n",
        "            tokens += [0] * pad_len\n",
        "            pad_masks = [1] * len(input_sequence) + [0] * pad_len\n",
        "            segment_ids = [0] * self.max_seq_length\n",
        "\n",
        "            all_tokens.append(tokens)\n",
        "            all_masks.append(pad_masks)\n",
        "            all_segments.append(segment_ids)\n",
        "\n",
        "        return np.array(all_tokens), np.array(all_masks), np.array(all_segments)\n",
        "    \n",
        "    \n",
        "    def build_model(self):\n",
        "        \n",
        "        input_word_ids = Input(shape=(self.max_seq_length,), dtype=tf.int32, name='input_word_ids')\n",
        "        input_mask = Input(shape=(self.max_seq_length,), dtype=tf.int32, name='input_mask')\n",
        "        segment_ids = Input(shape=(self.max_seq_length,), dtype=tf.int32, name='segment_ids')    \n",
        "        \n",
        "        pooled_output, sequence_output = self.bert_layer([input_word_ids, input_mask, segment_ids])   \n",
        "        clf_output = sequence_output[:, 0, :]\n",
        "        out = Dense(1, activation='sigmoid')(clf_output)\n",
        "        \n",
        "        model = Model(inputs=[input_word_ids, input_mask, segment_ids], outputs=out)\n",
        "        optimizer = SGD(learning_rate=self.lr, momentum=0.8)\n",
        "        model.compile(loss='binary_crossentropy', optimizer=optimizer, metrics=['accuracy'])\n",
        "        \n",
        "        return model\n",
        "    \n",
        "    \n",
        "    def train(self, X):\n",
        "        \n",
        "        for fold, (trn_idx, val_idx) in enumerate(skf.split(X['clean_text'], X['target'])):\n",
        "            \n",
        "            print('\\nFold {}\\n'.format(fold))\n",
        "        \n",
        "            X_trn_encoded = self.encode(X.loc[trn_idx, 'clean_text'].str.lower())\n",
        "            y_trn = X.loc[trn_idx, 'target']\n",
        "            X_val_encoded = self.encode(X.loc[val_idx, 'clean_text'].str.lower())\n",
        "            y_val = X.loc[val_idx, 'target']\n",
        "        \n",
        "            # Callbacks\n",
        "            metrics = ClassificationReport(train_data=(X_trn_encoded, y_trn), validation_data=(X_val_encoded, y_val))\n",
        "            \n",
        "            # Model\n",
        "            model = self.build_model()        \n",
        "            model.fit(X_trn_encoded, y_trn, validation_data=(X_val_encoded, y_val), callbacks=[metrics], epochs=self.epochs, batch_size=self.batch_size)\n",
        "            \n",
        "            self.models.append(model)\n",
        "            self.scores[fold] = {\n",
        "                'train': {\n",
        "                    'precision': metrics.train_precision_scores,\n",
        "                    'recall': metrics.train_recall_scores,\n",
        "                    'f1': metrics.train_f1_scores                    \n",
        "                },\n",
        "                'validation': {\n",
        "                    'precision': metrics.val_precision_scores,\n",
        "                    'recall': metrics.val_recall_scores,\n",
        "                    'f1': metrics.val_f1_scores                    \n",
        "                }\n",
        "            }\n",
        "                    \n",
        "                \n",
        "    def plot_learning_curve(self):\n",
        "        \n",
        "        fig, axes = plt.subplots(nrows=K, ncols=2, figsize=(20, K * 6), dpi=100)\n",
        "    \n",
        "        for i in range(K):\n",
        "            \n",
        "            # Classification Report curve\n",
        "            sns.lineplot(x=np.arange(1, self.epochs + 1), y=clf.models[i].history.history['val_accuracy'], ax=axes[i][0], label='val_accuracy')\n",
        "            sns.lineplot(x=np.arange(1, self.epochs + 1), y=clf.scores[i]['validation']['precision'], ax=axes[i][0], label='val_precision')\n",
        "            sns.lineplot(x=np.arange(1, self.epochs + 1), y=clf.scores[i]['validation']['recall'], ax=axes[i][0], label='val_recall')\n",
        "            sns.lineplot(x=np.arange(1, self.epochs + 1), y=clf.scores[i]['validation']['f1'], ax=axes[i][0], label='val_f1')        \n",
        "\n",
        "            axes[i][0].legend() \n",
        "            axes[i][0].set_title('Fold {} Validation Classification Report'.format(i), fontsize=14)\n",
        "\n",
        "            # Loss curve\n",
        "            sns.lineplot(x=np.arange(1, self.epochs + 1), y=clf.models[0].history.history['loss'], ax=axes[i][1], label='train_loss')\n",
        "            sns.lineplot(x=np.arange(1, self.epochs + 1), y=clf.models[0].history.history['val_loss'], ax=axes[i][1], label='val_loss')\n",
        "\n",
        "            axes[i][1].legend() \n",
        "            axes[i][1].set_title('Fold {} Train / Validation Loss'.format(i), fontsize=14)\n",
        "\n",
        "            for j in range(2):\n",
        "                axes[i][j].set_xlabel('Epoch', size=12)\n",
        "                axes[i][j].tick_params(axis='x', labelsize=12)\n",
        "                axes[i][j].tick_params(axis='y', labelsize=12)\n",
        "\n",
        "        plt.show()\n",
        "        \n",
        "        \n",
        "    def predict(self, X):\n",
        "        \n",
        "        X_test_encoded = self.encode(X['clean_text'].str.lower())\n",
        "        y_pred = np.zeros((X_test_encoded[0].shape[0], 1))\n",
        "\n",
        "        for model in self.models:\n",
        "            y_pred += model.predict(X_test_encoded) / len(self.models)\n",
        "\n",
        "        return y_pred"
      ],
      "execution_count": 35,
      "outputs": []
    },
    {
      "cell_type": "code",
      "metadata": {
        "id": "AoAsbEJ-TQXM",
        "colab_type": "code",
        "colab": {
          "base_uri": "https://localhost:8080/",
          "height": 197
        },
        "outputId": "bb3e3078-b12b-436f-db8e-bf283416b8ab"
      },
      "source": [
        "clf = DisasterDetector(bert_layer, max_seq_length=128, lr=0.0001, epochs=10, batch_size=32)\n",
        "new_train = train[['clean_text','target']].copy()\n",
        "new_train.head()"
      ],
      "execution_count": 36,
      "outputs": [
        {
          "output_type": "execute_result",
          "data": {
            "text/html": [
              "<div>\n",
              "<style scoped>\n",
              "    .dataframe tbody tr th:only-of-type {\n",
              "        vertical-align: middle;\n",
              "    }\n",
              "\n",
              "    .dataframe tbody tr th {\n",
              "        vertical-align: top;\n",
              "    }\n",
              "\n",
              "    .dataframe thead th {\n",
              "        text-align: right;\n",
              "    }\n",
              "</style>\n",
              "<table border=\"1\" class=\"dataframe\">\n",
              "  <thead>\n",
              "    <tr style=\"text-align: right;\">\n",
              "      <th></th>\n",
              "      <th>clean_text</th>\n",
              "      <th>target</th>\n",
              "    </tr>\n",
              "  </thead>\n",
              "  <tbody>\n",
              "    <tr>\n",
              "      <th>0</th>\n",
              "      <td>our deeds are the reason of this earthquake ma...</td>\n",
              "      <td>1</td>\n",
              "    </tr>\n",
              "    <tr>\n",
              "      <th>1</th>\n",
              "      <td>forest fire near la ronge sask canada</td>\n",
              "      <td>1</td>\n",
              "    </tr>\n",
              "    <tr>\n",
              "      <th>2</th>\n",
              "      <td>all residents asked to shelter in place are be...</td>\n",
              "      <td>1</td>\n",
              "    </tr>\n",
              "    <tr>\n",
              "      <th>3</th>\n",
              "      <td>people receive wildfires evacuation orders in...</td>\n",
              "      <td>1</td>\n",
              "    </tr>\n",
              "    <tr>\n",
              "      <th>4</th>\n",
              "      <td>just got sent this photo from ruby alaska as s...</td>\n",
              "      <td>1</td>\n",
              "    </tr>\n",
              "  </tbody>\n",
              "</table>\n",
              "</div>"
            ],
            "text/plain": [
              "                                          clean_text  target\n",
              "0  our deeds are the reason of this earthquake ma...       1\n",
              "1              forest fire near la ronge sask canada       1\n",
              "2  all residents asked to shelter in place are be...       1\n",
              "3   people receive wildfires evacuation orders in...       1\n",
              "4  just got sent this photo from ruby alaska as s...       1"
            ]
          },
          "metadata": {
            "tags": []
          },
          "execution_count": 36
        }
      ]
    },
    {
      "cell_type": "code",
      "metadata": {
        "id": "gO_PlIRfQHKO",
        "colab_type": "code",
        "colab": {
          "base_uri": "https://localhost:8080/",
          "height": 1000
        },
        "outputId": "4ae486e7-19e5-4739-acf6-443b830c9eb5"
      },
      "source": [
        "clf.train(new_train)"
      ],
      "execution_count": 37,
      "outputs": [
        {
          "output_type": "stream",
          "text": [
            "\n",
            "Fold 0\n",
            "\n",
            "Epoch 1/10\n",
            "119/119 [==============================] - ETA: 0s - loss: 0.6682 - accuracy: 0.6230\n",
            "Epoch: 1 - Training Precision: 0.730785 - Training Recall: 0.696906 - Training F1: 0.699112\n",
            "Epoch: 1 - Validation Precision: 0.728474 - Validation Recall: 0.691028 - Validation F1: 0.692539\n",
            "119/119 [==============================] - 195s 2s/step - loss: 0.6682 - accuracy: 0.6230 - val_loss: 0.5897 - val_accuracy: 0.7171\n",
            "Epoch 2/10\n",
            "119/119 [==============================] - ETA: 0s - loss: 0.5475 - accuracy: 0.7454\n",
            "Epoch: 2 - Training Precision: 0.764355 - Training Recall: 0.755089 - Training F1: 0.757975\n",
            "Epoch: 2 - Validation Precision: 0.763386 - Validation Recall: 0.754041 - Validation F1: 0.75693\n",
            "119/119 [==============================] - 195s 2s/step - loss: 0.5475 - accuracy: 0.7454 - val_loss: 0.5034 - val_accuracy: 0.7654\n",
            "Epoch 3/10\n",
            "119/119 [==============================] - ETA: 0s - loss: 0.4858 - accuracy: 0.7811\n",
            "Epoch: 3 - Training Precision: 0.801342 - Training Recall: 0.783322 - Training F1: 0.788037\n",
            "Epoch: 3 - Validation Precision: 0.796546 - Validation Recall: 0.779814 - Validation F1: 0.784272\n",
            "119/119 [==============================] - 195s 2s/step - loss: 0.4858 - accuracy: 0.7811 - val_loss: 0.4632 - val_accuracy: 0.7935\n",
            "Epoch 4/10\n",
            "119/119 [==============================] - ETA: 0s - loss: 0.4500 - accuracy: 0.7982\n",
            "Epoch: 4 - Training Precision: 0.811517 - Training Recall: 0.798681 - Training F1: 0.802678\n",
            "Epoch: 4 - Validation Precision: 0.802787 - Validation Recall: 0.790573 - Validation F1: 0.794362\n",
            "119/119 [==============================] - 195s 2s/step - loss: 0.4500 - accuracy: 0.7982 - val_loss: 0.4425 - val_accuracy: 0.8019\n",
            "Epoch 5/10\n",
            "119/119 [==============================] - ETA: 0s - loss: 0.4279 - accuracy: 0.8087\n",
            "Epoch: 5 - Training Precision: 0.826415 - Training Recall: 0.813307 - Training F1: 0.817492\n",
            "Epoch: 5 - Validation Precision: 0.811301 - Validation Recall: 0.798005 - Validation F1: 0.802083\n",
            "119/119 [==============================] - 194s 2s/step - loss: 0.4279 - accuracy: 0.8087 - val_loss: 0.4317 - val_accuracy: 0.8096\n",
            "Epoch 6/10\n",
            "119/119 [==============================] - ETA: 0s - loss: 0.4105 - accuracy: 0.8205\n",
            "Epoch: 6 - Training Precision: 0.833062 - Training Recall: 0.817456 - Training F1: 0.822202\n",
            "Epoch: 6 - Validation Precision: 0.816191 - Validation Recall: 0.799178 - Validation F1: 0.803959\n",
            "119/119 [==============================] - 195s 2s/step - loss: 0.4105 - accuracy: 0.8205 - val_loss: 0.4241 - val_accuracy: 0.8122\n",
            "Epoch 7/10\n",
            "119/119 [==============================] - ETA: 0s - loss: 0.3964 - accuracy: 0.8300\n",
            "Epoch: 7 - Training Precision: 0.842457 - Training Recall: 0.823599 - Training F1: 0.829038\n",
            "Epoch: 7 - Validation Precision: 0.819972 - Validation Recall: 0.801255 - Validation F1: 0.806349\n",
            "119/119 [==============================] - 194s 2s/step - loss: 0.3964 - accuracy: 0.8300 - val_loss: 0.4202 - val_accuracy: 0.8148\n",
            "Epoch 8/10\n",
            "119/119 [==============================] - ETA: 0s - loss: 0.3851 - accuracy: 0.8374\n",
            "Epoch: 8 - Training Precision: 0.847192 - Training Recall: 0.833068 - Training F1: 0.837646\n",
            "Epoch: 8 - Validation Precision: 0.820642 - Validation Recall: 0.805822 - Validation F1: 0.810282\n",
            "119/119 [==============================] - 194s 2s/step - loss: 0.3851 - accuracy: 0.8374 - val_loss: 0.4152 - val_accuracy: 0.8177\n",
            "Epoch 9/10\n",
            "119/119 [==============================] - ETA: 0s - loss: 0.3728 - accuracy: 0.8395\n",
            "Epoch: 9 - Training Precision: 0.857997 - Training Recall: 0.833045 - Training F1: 0.839666\n",
            "Epoch: 9 - Validation Precision: 0.824984 - Validation Recall: 0.801437 - Validation F1: 0.807247\n",
            "119/119 [==============================] - 195s 2s/step - loss: 0.3728 - accuracy: 0.8395 - val_loss: 0.4172 - val_accuracy: 0.8167\n",
            "Epoch 10/10\n",
            "119/119 [==============================] - ETA: 0s - loss: 0.3643 - accuracy: 0.8497\n",
            "Epoch: 10 - Training Precision: 0.850223 - Training Recall: 0.843435 - Training F1: 0.846107\n",
            "Epoch: 10 - Validation Precision: 0.815309 - Validation Recall: 0.807985 - Validation F1: 0.810701\n",
            "119/119 [==============================] - 194s 2s/step - loss: 0.3643 - accuracy: 0.8497 - val_loss: 0.4142 - val_accuracy: 0.8164\n",
            "\n",
            "Fold 1\n",
            "\n",
            "Epoch 1/10\n",
            "119/119 [==============================] - ETA: 0s - loss: 0.4955 - accuracy: 0.7862\n",
            "Epoch: 1 - Training Precision: 0.815589 - Training Recall: 0.810718 - Training F1: 0.812688\n",
            "Epoch: 1 - Validation Precision: 0.820812 - Validation Recall: 0.816232 - Validation F1: 0.818116\n",
            "119/119 [==============================] - 197s 2s/step - loss: 0.4955 - accuracy: 0.7862 - val_loss: 0.4196 - val_accuracy: 0.8229\n",
            "Epoch 2/10\n",
            "119/119 [==============================] - ETA: 0s - loss: 0.4175 - accuracy: 0.8232\n",
            "Epoch: 2 - Training Precision: 0.832522 - Training Recall: 0.82179 - Training F1: 0.82548\n",
            "Epoch: 2 - Validation Precision: 0.832404 - Validation Recall: 0.823312 - Validation F1: 0.826588\n",
            "119/119 [==============================] - 194s 2s/step - loss: 0.4175 - accuracy: 0.8232 - val_loss: 0.4006 - val_accuracy: 0.8321\n",
            "Epoch 3/10\n",
            "119/119 [==============================] - ETA: 0s - loss: 0.4001 - accuracy: 0.8272\n",
            "Epoch: 3 - Training Precision: 0.840393 - Training Recall: 0.82823 - Training F1: 0.832311\n",
            "Epoch: 3 - Validation Precision: 0.837533 - Validation Recall: 0.827986 - Validation F1: 0.831407\n",
            "119/119 [==============================] - 194s 2s/step - loss: 0.4001 - accuracy: 0.8272 - val_loss: 0.3936 - val_accuracy: 0.8368\n",
            "Epoch 4/10\n",
            "119/119 [==============================] - ETA: 0s - loss: 0.3873 - accuracy: 0.8361\n",
            "Epoch: 4 - Training Precision: 0.848177 - Training Recall: 0.82904 - Training F1: 0.834593\n",
            "Epoch: 4 - Validation Precision: 0.842284 - Validation Recall: 0.82634 - Validation F1: 0.831247\n",
            "119/119 [==============================] - 194s 2s/step - loss: 0.3873 - accuracy: 0.8361 - val_loss: 0.3895 - val_accuracy: 0.8379\n",
            "Epoch 5/10\n",
            "119/119 [==============================] - ETA: 0s - loss: 0.3757 - accuracy: 0.8432\n",
            "Epoch: 5 - Training Precision: 0.85057 - Training Recall: 0.83917 - Training F1: 0.843134\n",
            "Epoch: 5 - Validation Precision: 0.839003 - Validation Recall: 0.83081 - Validation F1: 0.833867\n",
            "119/119 [==============================] - 195s 2s/step - loss: 0.3757 - accuracy: 0.8432 - val_loss: 0.3873 - val_accuracy: 0.8389\n",
            "Epoch 6/10\n",
            "119/119 [==============================] - ETA: 0s - loss: 0.3651 - accuracy: 0.8461\n",
            "Epoch: 6 - Training Precision: 0.859485 - Training Recall: 0.837703 - Training F1: 0.843854\n",
            "Epoch: 6 - Validation Precision: 0.844726 - Validation Recall: 0.825743 - Validation F1: 0.831234\n",
            "119/119 [==============================] - 194s 2s/step - loss: 0.3651 - accuracy: 0.8461 - val_loss: 0.3871 - val_accuracy: 0.8384\n",
            "Epoch 7/10\n",
            "119/119 [==============================] - ETA: 0s - loss: 0.3562 - accuracy: 0.8511\n",
            "Epoch: 7 - Training Precision: 0.857851 - Training Recall: 0.848494 - Training F1: 0.851953\n",
            "Epoch: 7 - Validation Precision: 0.838606 - Validation Recall: 0.832327 - Validation F1: 0.834808\n",
            "119/119 [==============================] - 194s 2s/step - loss: 0.3562 - accuracy: 0.8511 - val_loss: 0.3843 - val_accuracy: 0.8395\n",
            "Epoch 8/10\n",
            "119/119 [==============================] - ETA: 0s - loss: 0.3474 - accuracy: 0.8550\n",
            "Epoch: 8 - Training Precision: 0.861344 - Training Recall: 0.856268 - Training F1: 0.858389\n",
            "Epoch: 8 - Validation Precision: 0.831932 - Validation Recall: 0.82931 - Validation F1: 0.830481\n",
            "119/119 [==============================] - 194s 2s/step - loss: 0.3474 - accuracy: 0.8550 - val_loss: 0.3866 - val_accuracy: 0.8345\n",
            "Epoch 9/10\n",
            "119/119 [==============================] - ETA: 0s - loss: 0.3384 - accuracy: 0.8597\n",
            "Epoch: 9 - Training Precision: 0.870071 - Training Recall: 0.85694 - Training F1: 0.861453\n",
            "Epoch: 9 - Validation Precision: 0.845021 - Validation Recall: 0.834196 - Validation F1: 0.837987\n",
            "119/119 [==============================] - 194s 2s/step - loss: 0.3384 - accuracy: 0.8597 - val_loss: 0.3832 - val_accuracy: 0.8434\n",
            "Epoch 10/10\n",
            "119/119 [==============================] - ETA: 0s - loss: 0.3286 - accuracy: 0.8663\n",
            "Epoch: 10 - Training Precision: 0.871839 - Training Recall: 0.864173 - Training F1: 0.867179\n",
            "Epoch: 10 - Validation Precision: 0.835798 - Validation Recall: 0.830938 - Validation F1: 0.832943\n",
            "119/119 [==============================] - 194s 2s/step - loss: 0.3286 - accuracy: 0.8663 - val_loss: 0.3865 - val_accuracy: 0.8374\n"
          ],
          "name": "stdout"
        }
      ]
    },
    {
      "cell_type": "code",
      "metadata": {
        "id": "JoNpe7D9QPLZ",
        "colab_type": "code",
        "colab": {
          "base_uri": "https://localhost:8080/",
          "height": 691
        },
        "outputId": "2da89c61-e566-4b8c-9efe-daa69b568c09"
      },
      "source": [
        "clf.plot_learning_curve()"
      ],
      "execution_count": 38,
      "outputs": [
        {
          "output_type": "display_data",
          "data": {
            "image/png": "[encoded data removed]",
            "text/plain": [
              "<Figure size 2000x1200 with 4 Axes>"
            ]
          },
          "metadata": {
            "tags": []
          }
        }
      ]
    },
    {
      "cell_type": "code",
      "metadata": {
        "id": "bJizt3NmwW4F",
        "colab_type": "code",
        "colab": {
          "base_uri": "https://localhost:8080/",
          "height": 197
        },
        "outputId": "11796f39-372a-4ddc-80e6-6eac722b3cd7"
      },
      "source": [
        "test.head()"
      ],
      "execution_count": 39,
      "outputs": [
        {
          "output_type": "execute_result",
          "data": {
            "text/html": [
              "<div>\n",
              "<style scoped>\n",
              "    .dataframe tbody tr th:only-of-type {\n",
              "        vertical-align: middle;\n",
              "    }\n",
              "\n",
              "    .dataframe tbody tr th {\n",
              "        vertical-align: top;\n",
              "    }\n",
              "\n",
              "    .dataframe thead th {\n",
              "        text-align: right;\n",
              "    }\n",
              "</style>\n",
              "<table border=\"1\" class=\"dataframe\">\n",
              "  <thead>\n",
              "    <tr style=\"text-align: right;\">\n",
              "      <th></th>\n",
              "      <th>id</th>\n",
              "      <th>keyword</th>\n",
              "      <th>location</th>\n",
              "      <th>text</th>\n",
              "    </tr>\n",
              "  </thead>\n",
              "  <tbody>\n",
              "    <tr>\n",
              "      <th>0</th>\n",
              "      <td>0</td>\n",
              "      <td>NaN</td>\n",
              "      <td>NaN</td>\n",
              "      <td>Just happened a terrible car crash</td>\n",
              "    </tr>\n",
              "    <tr>\n",
              "      <th>1</th>\n",
              "      <td>2</td>\n",
              "      <td>NaN</td>\n",
              "      <td>NaN</td>\n",
              "      <td>Heard about #earthquake is different cities, s...</td>\n",
              "    </tr>\n",
              "    <tr>\n",
              "      <th>2</th>\n",
              "      <td>3</td>\n",
              "      <td>NaN</td>\n",
              "      <td>NaN</td>\n",
              "      <td>there is a forest fire at spot pond, geese are...</td>\n",
              "    </tr>\n",
              "    <tr>\n",
              "      <th>3</th>\n",
              "      <td>9</td>\n",
              "      <td>NaN</td>\n",
              "      <td>NaN</td>\n",
              "      <td>Apocalypse lighting. #Spokane #wildfires</td>\n",
              "    </tr>\n",
              "    <tr>\n",
              "      <th>4</th>\n",
              "      <td>11</td>\n",
              "      <td>NaN</td>\n",
              "      <td>NaN</td>\n",
              "      <td>Typhoon Soudelor kills 28 in China and Taiwan</td>\n",
              "    </tr>\n",
              "  </tbody>\n",
              "</table>\n",
              "</div>"
            ],
            "text/plain": [
              "   id keyword location                                               text\n",
              "0   0     NaN      NaN                 Just happened a terrible car crash\n",
              "1   2     NaN      NaN  Heard about #earthquake is different cities, s...\n",
              "2   3     NaN      NaN  there is a forest fire at spot pond, geese are...\n",
              "3   9     NaN      NaN           Apocalypse lighting. #Spokane #wildfires\n",
              "4  11     NaN      NaN      Typhoon Soudelor kills 28 in China and Taiwan"
            ]
          },
          "metadata": {
            "tags": []
          },
          "execution_count": 39
        }
      ]
    },
    {
      "cell_type": "code",
      "metadata": {
        "id": "DFny5oXlwga5",
        "colab_type": "code",
        "colab": {}
      },
      "source": [
        "test['clean_text'] = test['text'].apply(lambda x: clean_text(x))\n"
      ],
      "execution_count": 40,
      "outputs": []
    },
    {
      "cell_type": "code",
      "metadata": {
        "id": "FscCmfWDw0aW",
        "colab_type": "code",
        "colab": {}
      },
      "source": [
        "new_test = test[['clean_text']].copy()"
      ],
      "execution_count": 41,
      "outputs": []
    },
    {
      "cell_type": "code",
      "metadata": {
        "id": "xCquggPJxUQy",
        "colab_type": "code",
        "colab": {}
      },
      "source": [
        "y_pred = clf.predict(new_test)"
      ],
      "execution_count": 42,
      "outputs": []
    },
    {
      "cell_type": "code",
      "metadata": {
        "id": "oJHAJG-pyXqj",
        "colab_type": "code",
        "colab": {
          "base_uri": "https://localhost:8080/",
          "height": 197
        },
        "outputId": "98c5db32-efb2-4ffb-999b-63ff2c976a1e"
      },
      "source": [
        "submission = pd.read_csv(path2)\n",
        "submission['target'] = np.round(y_pred).astype('int')\n",
        "submission.to_csv('submission.csv', index= False)\n",
        "submission.head()"
      ],
      "execution_count": 45,
      "outputs": [
        {
          "output_type": "execute_result",
          "data": {
            "text/html": [
              "<div>\n",
              "<style scoped>\n",
              "    .dataframe tbody tr th:only-of-type {\n",
              "        vertical-align: middle;\n",
              "    }\n",
              "\n",
              "    .dataframe tbody tr th {\n",
              "        vertical-align: top;\n",
              "    }\n",
              "\n",
              "    .dataframe thead th {\n",
              "        text-align: right;\n",
              "    }\n",
              "</style>\n",
              "<table border=\"1\" class=\"dataframe\">\n",
              "  <thead>\n",
              "    <tr style=\"text-align: right;\">\n",
              "      <th></th>\n",
              "      <th>id</th>\n",
              "      <th>target</th>\n",
              "    </tr>\n",
              "  </thead>\n",
              "  <tbody>\n",
              "    <tr>\n",
              "      <th>0</th>\n",
              "      <td>0</td>\n",
              "      <td>1</td>\n",
              "    </tr>\n",
              "    <tr>\n",
              "      <th>1</th>\n",
              "      <td>2</td>\n",
              "      <td>1</td>\n",
              "    </tr>\n",
              "    <tr>\n",
              "      <th>2</th>\n",
              "      <td>3</td>\n",
              "      <td>1</td>\n",
              "    </tr>\n",
              "    <tr>\n",
              "      <th>3</th>\n",
              "      <td>9</td>\n",
              "      <td>1</td>\n",
              "    </tr>\n",
              "    <tr>\n",
              "      <th>4</th>\n",
              "      <td>11</td>\n",
              "      <td>1</td>\n",
              "    </tr>\n",
              "  </tbody>\n",
              "</table>\n",
              "</div>"
            ],
            "text/plain": [
              "   id  target\n",
              "0   0       1\n",
              "1   2       1\n",
              "2   3       1\n",
              "3   9       1\n",
              "4  11       1"
            ]
          },
          "metadata": {
            "tags": []
          },
          "execution_count": 45
        }
      ]
    },
    {
      "cell_type": "code",
      "metadata": {
        "id": "qsor4nV4ye1b",
        "colab_type": "code",
        "colab": {
          "base_uri": "https://localhost:8080/",
          "height": 287
        },
        "outputId": "5cbc0b45-5330-4045-dfd7-f1b078610ecd"
      },
      "source": [
        "submission.describe()"
      ],
      "execution_count": 46,
      "outputs": [
        {
          "output_type": "execute_result",
          "data": {
            "text/html": [
              "<div>\n",
              "<style scoped>\n",
              "    .dataframe tbody tr th:only-of-type {\n",
              "        vertical-align: middle;\n",
              "    }\n",
              "\n",
              "    .dataframe tbody tr th {\n",
              "        vertical-align: top;\n",
              "    }\n",
              "\n",
              "    .dataframe thead th {\n",
              "        text-align: right;\n",
              "    }\n",
              "</style>\n",
              "<table border=\"1\" class=\"dataframe\">\n",
              "  <thead>\n",
              "    <tr style=\"text-align: right;\">\n",
              "      <th></th>\n",
              "      <th>id</th>\n",
              "      <th>target</th>\n",
              "    </tr>\n",
              "  </thead>\n",
              "  <tbody>\n",
              "    <tr>\n",
              "      <th>count</th>\n",
              "      <td>3263.000000</td>\n",
              "      <td>3263.000000</td>\n",
              "    </tr>\n",
              "    <tr>\n",
              "      <th>mean</th>\n",
              "      <td>5427.152927</td>\n",
              "      <td>0.408520</td>\n",
              "    </tr>\n",
              "    <tr>\n",
              "      <th>std</th>\n",
              "      <td>3146.427221</td>\n",
              "      <td>0.491635</td>\n",
              "    </tr>\n",
              "    <tr>\n",
              "      <th>min</th>\n",
              "      <td>0.000000</td>\n",
              "      <td>0.000000</td>\n",
              "    </tr>\n",
              "    <tr>\n",
              "      <th>25%</th>\n",
              "      <td>2683.000000</td>\n",
              "      <td>0.000000</td>\n",
              "    </tr>\n",
              "    <tr>\n",
              "      <th>50%</th>\n",
              "      <td>5500.000000</td>\n",
              "      <td>0.000000</td>\n",
              "    </tr>\n",
              "    <tr>\n",
              "      <th>75%</th>\n",
              "      <td>8176.000000</td>\n",
              "      <td>1.000000</td>\n",
              "    </tr>\n",
              "    <tr>\n",
              "      <th>max</th>\n",
              "      <td>10875.000000</td>\n",
              "      <td>1.000000</td>\n",
              "    </tr>\n",
              "  </tbody>\n",
              "</table>\n",
              "</div>"
            ],
            "text/plain": [
              "                 id       target\n",
              "count   3263.000000  3263.000000\n",
              "mean    5427.152927     0.408520\n",
              "std     3146.427221     0.491635\n",
              "min        0.000000     0.000000\n",
              "25%     2683.000000     0.000000\n",
              "50%     5500.000000     0.000000\n",
              "75%     8176.000000     1.000000\n",
              "max    10875.000000     1.000000"
            ]
          },
          "metadata": {
            "tags": []
          },
          "execution_count": 46
        }
      ]
    },
    {
      "cell_type": "code",
      "metadata": {
        "id": "IxX46yePzAQ1",
        "colab_type": "code",
        "colab": {}
      },
      "source": [
        ""
      ],
      "execution_count": null,
      "outputs": []
    }
  ]
}